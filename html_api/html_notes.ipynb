{
 "cells": [
  {
   "attachments": {},
   "cell_type": "markdown",
   "metadata": {},
   "source": [
    "<center>\n",
    "    <font size='25'>html notes</font>\n",
    "</center>"
   ]
  },
  {
   "cell_type": "code",
   "execution_count": 1,
   "metadata": {
    "vscode": {
     "languageId": "html"
    }
   },
   "outputs": [
    {
     "data": {
      "text/html": [
       "\n",
       "<h2>Void Elements </h2> \n",
       "<p>Tags with no end-tags</p>\n",
       "\n",
       "<table>\n",
       "    <tr>\n",
       "        <th>tag</th>\n",
       "        <th>description</th>\n",
       "    </tr>\n",
       "    \n",
       "    <tr>\n",
       "        <td>&lt&#33DOCTYPE html&gt</td>\n",
       "        <td>Document type declaration for web browsers</td>\n",
       "    </tr>\n",
       "    \n",
       "    <tr>\n",
       "        <td>&ltbr&gt</td>\n",
       "        <td>Linebreak</td>\n",
       "    </tr>\n",
       "    \n",
       "    <tr>\n",
       "        <td>&ltinput&gt</td>\n",
       "        <td>Field for the user to fill</td>\n",
       "    </tr>\n",
       "    \n",
       "    <tr>\n",
       "        <td>&ltimg&gt</td>\n",
       "        <td>Display image</td>\n",
       "    </tr>\n",
       "\n",
       "    <tr>\n",
       "        <td>&ltsource&gt</td>\n",
       "        <td>E.g. used in &ltaudio&gt tag</td>\n",
       "    </tr>\n",
       "\n",
       "    <tr>\n",
       "        <td>&lt  &gt</td>\n",
       "        <td></td>\n",
       "    </tr>\n",
       "\n",
       "    <tr>\n",
       "        <td>&ltbase&gt</td>\n",
       "        <td>Specify base URL</td>\n",
       "    </tr>\n",
       "</table>\n"
      ],
      "text/plain": [
       "<IPython.core.display.HTML object>"
      ]
     },
     "metadata": {},
     "output_type": "display_data"
    }
   ],
   "source": [
    "%%html\n",
    "\n",
    "<h2>Void Elements </h2> \n",
    "<p>Tags with no end-tags</p>\n",
    "\n",
    "<table>\n",
    "    <tr>\n",
    "        <th>tag</th>\n",
    "        <th>description</th>\n",
    "    </tr>\n",
    "    \n",
    "    <tr>\n",
    "        <td>&lt&#33DOCTYPE html&gt</td>\n",
    "        <td>Document type declaration for web browsers</td>\n",
    "    </tr>\n",
    "    \n",
    "    <tr>\n",
    "        <td>&ltbr&gt</td>\n",
    "        <td>Linebreak</td>\n",
    "    </tr>\n",
    "    \n",
    "    <tr>\n",
    "        <td>&ltinput&gt</td>\n",
    "        <td>Field for the user to fill</td>\n",
    "    </tr>\n",
    "    \n",
    "    <tr>\n",
    "        <td>&ltimg&gt</td>\n",
    "        <td>Display image</td>\n",
    "    </tr>\n",
    "\n",
    "    <tr>\n",
    "        <td>&ltsource&gt</td>\n",
    "        <td>E.g. used in &ltaudio&gt tag</td>\n",
    "    </tr>\n",
    "\n",
    "    <tr>\n",
    "        <td>&ltbase&gt</td>\n",
    "        <td>Specify base URL</td>\n",
    "    </tr>\n",
    "\n",
    "    <tr>\n",
    "        <td>&lt  &gt</td>\n",
    "        <td></td>\n",
    "    </tr>\n",
    "</table>"
   ]
  },
  {
   "attachments": {},
   "cell_type": "markdown",
   "metadata": {},
   "source": [
    "# Validation"
   ]
  },
  {
   "attachments": {},
   "cell_type": "markdown",
   "metadata": {},
   "source": [
    "## Required Field\n",
    "Use <code>required</code> key-word in the <code>< input required></code> tag."
   ]
  },
  {
   "cell_type": "code",
   "execution_count": 3,
   "metadata": {
    "vscode": {
     "languageId": "html"
    }
   },
   "outputs": [
    {
     "data": {
      "text/html": [
       "\n",
       "<!DOCTYPE html>\n",
       "<html lang=\"en\" dir=\"ltr\">\n",
       "\n",
       "  <head>\n",
       "    <meta charset=\"utf-8\">\n",
       "    <title>Number Guessing</title>\n",
       "    <link rel=\"stylesheet\" href=\"style.css\" type=\"text/css\">\n",
       "    <link href=\"https://fonts.googleapis.com/css?family=Spicy+Rice\" rel=\"stylesheet\">\n",
       "  </head>\n",
       "\n",
       "  <body>\n",
       "    <section class=\"overlay\">\n",
       "      <h1>Guess the right number!</h1>\n",
       "      <form action=\"check.html\" method=\"GET\">\n",
       "        <label for=\"guess\">Enter a number between 1-10:</label>\n",
       "        <br>\n",
       "        <input type=\"number\" name=\"guess\" id=\"guess\" required>\n",
       "        <br>\n",
       "        <input type=\"submit\" id=\"submission\" value=\"Submit\">\n",
       "      </form>\n",
       "    </section>\n",
       "  </body>\n",
       "  \n",
       "</html>\n"
      ],
      "text/plain": [
       "<IPython.core.display.HTML object>"
      ]
     },
     "metadata": {},
     "output_type": "display_data"
    }
   ],
   "source": [
    "%%HTML\n",
    "\n",
    "<!DOCTYPE html>\n",
    "<html lang=\"en\" dir=\"ltr\">\n",
    "\n",
    "  <head>\n",
    "    <meta charset=\"utf-8\">\n",
    "    <title>Number Guessing</title>\n",
    "    <link rel=\"stylesheet\" href=\"style.css\" type=\"text/css\">\n",
    "    <link href=\"https://fonts.googleapis.com/css?family=Spicy+Rice\" rel=\"stylesheet\">\n",
    "  </head>\n",
    "\n",
    "  <body>\n",
    "    <section class=\"overlay\">\n",
    "      <h1>Guess the right number!</h1>\n",
    "      <form action=\"check.html\" method=\"GET\">\n",
    "        <label for=\"guess\">Enter a number between 1-10:</label>\n",
    "        <br>\n",
    "        <input type=\"number\" name=\"guess\" id=\"guess\" required>\n",
    "        <br>\n",
    "        <input type=\"submit\" id=\"submission\" value=\"Submit\">\n",
    "      </form>\n",
    "    </section>\n",
    "  </body>\n",
    "  \n",
    "</html>"
   ]
  },
  {
   "attachments": {},
   "cell_type": "markdown",
   "metadata": {},
   "source": [
    "## Min Max\n",
    "Constrain input length."
   ]
  },
  {
   "cell_type": "code",
   "execution_count": 2,
   "metadata": {},
   "outputs": [
    {
     "data": {
      "text/html": [
       "<form>\n",
       "    <label for=\"guess\">Guess number between 5 and 10</label>\n",
       "    <input id=\"guess\" name='guess' type=\"number\" min='5' max='10' required>\n",
       "    <input type=\"submit\" id=\"submission\" value=\"Submit\">\n",
       "</form>\n"
      ],
      "text/plain": [
       "<IPython.core.display.HTML object>"
      ]
     },
     "metadata": {},
     "output_type": "display_data"
    }
   ],
   "source": [
    "%%HTML\n",
    "<form>\n",
    "    <label for=\"guess\">Guess number between 5 and 10</label>\n",
    "    <input id=\"guess\" name='guess' type=\"number\" min='5' max='10' required>\n",
    "    <input type=\"submit\" id=\"submission\" value=\"Submit\">\n",
    "</form>"
   ]
  },
  {
   "cell_type": "code",
   "execution_count": 4,
   "metadata": {},
   "outputs": [
    {
     "data": {
      "text/html": [
       "<form>\n",
       "    <label for=\"username\">Username</label>\n",
       "    <input id=\"username\" name=\"username\" type=\"text\" \n",
       "        minlegth=\"3\" maxlength=\"15\" required>\n",
       "    <input type=\"submit\" value=\"Submit\">\n",
       "</form>\n"
      ],
      "text/plain": [
       "<IPython.core.display.HTML object>"
      ]
     },
     "metadata": {},
     "output_type": "display_data"
    }
   ],
   "source": [
    "%%HTML\n",
    "<form>\n",
    "    <label for=\"username\">Username</label>\n",
    "    <input id=\"username\" name=\"username\" type=\"text\" \n",
    "        minlegth=\"3\" maxlength=\"15\" required>\n",
    "    <input type=\"submit\" value=\"Submit\">\n",
    "</form>"
   ]
  },
  {
   "attachments": {},
   "cell_type": "markdown",
   "metadata": {},
   "source": [
    "## Figure\n",
    "Use <code> < figure></code> tag to embed images with <code>< img></code> tag. It's useful as when using image caption <code>< figcaption></code> the caption sticks to the figure when content on web-page changes."
   ]
  },
  {
   "cell_type": "code",
   "execution_count": 5,
   "metadata": {
    "vscode": {
     "languageId": "html"
    }
   },
   "outputs": [
    {
     "data": {
      "text/html": [
       "\n",
       "<figure>\n",
       "    <img src=\"img/08_highlander.jpg\">\n",
       "    <figcaption>Second car.</figcaption>\n",
       "</figure>\n"
      ],
      "text/plain": [
       "<IPython.core.display.HTML object>"
      ]
     },
     "metadata": {},
     "output_type": "display_data"
    }
   ],
   "source": [
    "%%html\n",
    "\n",
    "<figure>\n",
    "    <img src=\"img/08_highlander.jpg\">\n",
    "    <figcaption>Second car.</figcaption>\n",
    "</figure>"
   ]
  },
  {
   "attachments": {},
   "cell_type": "markdown",
   "metadata": {},
   "source": [
    "## html elements\n",
    "### Scalar Measurement"
   ]
  },
  {
   "cell_type": "code",
   "execution_count": 2,
   "metadata": {
    "vscode": {
     "languageId": "html"
    }
   },
   "outputs": [
    {
     "data": {
      "text/html": [
       "\n",
       "<p>Display a gauge value here:</p>\n",
       "<meter value=\"5\" min=\"0\" max=\"20\">2 out of 20</meter><br>\n",
       "<meter value=\"0.6\">60%</meter>\n"
      ],
      "text/plain": [
       "<IPython.core.display.HTML object>"
      ]
     },
     "metadata": {},
     "output_type": "display_data"
    }
   ],
   "source": [
    "%%html\n",
    "\n",
    "<p>Display a gauge value here:</p>\n",
    "<meter value=\"5\" min=\"0\" max=\"20\">2 out of 20</meter><br>\n",
    "<meter value=\"0.6\">60%</meter>"
   ]
  },
  {
   "attachments": {},
   "cell_type": "markdown",
   "metadata": {},
   "source": [
    "### Drop-down Groups"
   ]
  },
  {
   "cell_type": "code",
   "execution_count": 3,
   "metadata": {
    "vscode": {
     "languageId": "html"
    }
   },
   "outputs": [
    {
     "data": {
      "text/html": [
       "\n",
       "<select>\n",
       "    <optgroup label=\"Computer Monitors\">\n",
       "        <option value=\"crt\">CRT</option>\n",
       "        <option value=\"lcd\">LCD</option>\n",
       "        <option value=\"led\">LED</option>\n",
       "    </optgroup>\n",
       "\n",
       "    <optgroup label=\"Computer Printers\">\n",
       "        <option value=\"dot-matrix\">Dot-Matrix</option>\n",
       "        <option value=\"ink-jet\">Ink-jet</option>\n",
       "        <option value=\"laser\">Laser</option>\n",
       "    </optgroup>\n",
       "</select>\n"
      ],
      "text/plain": [
       "<IPython.core.display.HTML object>"
      ]
     },
     "metadata": {},
     "output_type": "display_data"
    }
   ],
   "source": [
    "%%html\n",
    "\n",
    "<select>\n",
    "    <optgroup label=\"Computer Monitors\">\n",
    "        <option value=\"crt\">CRT</option>\n",
    "        <option value=\"lcd\">LCD</option>\n",
    "        <option value=\"led\">LED</option>\n",
    "    </optgroup>\n",
    "\n",
    "    <optgroup label=\"Computer Printers\">\n",
    "        <option value=\"dot-matrix\">Dot-Matrix</option>\n",
    "        <option value=\"ink-jet\">Ink-jet</option>\n",
    "        <option value=\"laser\">Laser</option>\n",
    "    </optgroup>\n",
    "</select>"
   ]
  },
  {
   "attachments": {},
   "cell_type": "markdown",
   "metadata": {},
   "source": []
  }
 ],
 "metadata": {
  "kernelspec": {
   "display_name": "Python 3",
   "language": "python",
   "name": "python3"
  },
  "language_info": {
   "codemirror_mode": {
    "name": "ipython",
    "version": 3
   },
   "file_extension": ".py",
   "mimetype": "text/x-python",
   "name": "python",
   "nbconvert_exporter": "python",
   "pygments_lexer": "ipython3",
   "version": "3.11.1"
  },
  "orig_nbformat": 4,
  "vscode": {
   "interpreter": {
    "hash": "ead1b95f633dc9c51826328e1846203f51a198c6fb5f2884a80417ba131d4e82"
   }
  }
 },
 "nbformat": 4,
 "nbformat_minor": 2
}
