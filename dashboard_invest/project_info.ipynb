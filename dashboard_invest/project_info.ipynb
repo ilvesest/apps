{
 "cells": [
  {
   "attachments": {},
   "cell_type": "markdown",
   "metadata": {},
   "source": [
    "# Project Info & Metadata"
   ]
  },
  {
   "attachments": {},
   "cell_type": "markdown",
   "metadata": {},
   "source": [
    "## GOOGLE SHEETS API\n",
    "How to create [Service Account](https://docs.gspread.org/en/latest/oauth2.html) to access Google Sheet information:\n",
    "\n",
    "1. Google Developers Console -> Create Project\n",
    "2. Enable Google Drive, Google Sheets API\n",
    "3. Cretae a Service Account (for bots)\n",
    "4. Share service account credentials with the trustee\n",
    "5. On the Google Sheet document -> Share -> Add service account **email** found in the **.json** file"
   ]
  },
  {
   "attachments": {},
   "cell_type": "markdown",
   "metadata": {},
   "source": [
    "### Google Sheets Usage with <code>gspread</code>"
   ]
  },
  {
   "cell_type": "code",
   "execution_count": 1,
   "metadata": {},
   "outputs": [],
   "source": [
    "import gspread as gs"
   ]
  },
  {
   "cell_type": "code",
   "execution_count": 18,
   "metadata": {},
   "outputs": [],
   "source": [
    "import gspread as gs\n",
    "from openpyxl import Workbook\n",
    "\n",
    "\n",
    "# init service account via .json file\n",
    "gc = gs.service_account(filename=\"/home/tonu/.config/gspread/service_account.json\")\n",
    "\n",
    "# open sheet via document url\n",
    "spread_sheet_url = \"https://docs.google.com/spreadsheets/d/15-kxhuk4h1BdFuiSIueamEifJpjsG6Loi621KQ8hGuY/edit#gid=1755810028\"\n",
    "\n",
    "spreadsheet = gc.open_by_url(spread_sheet_url)\n",
    "sheets = spreadsheet.worksheets()\n"
   ]
  },
  {
   "cell_type": "code",
   "execution_count": 40,
   "metadata": {},
   "outputs": [],
   "source": [
    "# access sheet by worksheet title\n",
    "investments = ss.worksheet(\"Investments\")\n",
    "\n",
    "risk_cell = investments.find(\"RISK\")\n",
    "collapse_cell = investments.find(\"COLLAPSE\")"
   ]
  },
  {
   "cell_type": "code",
   "execution_count": 41,
   "metadata": {},
   "outputs": [
    {
     "name": "stdout",
     "output_type": "stream",
     "text": [
      "The background color of cell H32 is {'green': 1}.\n"
     ]
    }
   ],
   "source": [
    "from googleapiclient.discovery import build\n",
    "from google.oauth2 import service_account\n",
    "\n",
    "# Replace the placeholders with your own values\n",
    "SPREADSHEET_ID = '1PID4JT2z5cBwKvQYe8GwsqCtTOPzHX7D1_GfPtNJKkM'\n",
    "RANGE_NAME = 'H32'\n",
    "\n",
    "# Replace with the path to your service account key file\n",
    "SERVICE_ACCOUNT_FILE = '/home/tonu/.config/gspread/service_account.json'\n",
    "\n",
    "# Authenticate and build the API client\n",
    "creds = service_account.Credentials.from_service_account_file(SERVICE_ACCOUNT_FILE, scopes=['https://www.googleapis.com/auth/spreadsheets'])\n",
    "service = build('sheets', 'v4', credentials=creds)\n",
    "\n",
    "# Call the Google Sheets API to retrieve the background color of the cell\n",
    "response = service.spreadsheets().get(spreadsheetId=SPREADSHEET_ID, ranges=RANGE_NAME, fields='sheets(data(rowData(values(userEnteredFormat(backgroundColor))))),spreadsheetId').execute()\n",
    "\n",
    "# Parse the response to extract the background color of the cell\n",
    "background_color = response['sheets'][0]['data'][0]['rowData'][0]['values'][0]['userEnteredFormat']['backgroundColor']\n",
    "\n",
    "# Print the background color of the cell to the console\n",
    "print(f'The background color of cell {RANGE_NAME} is {background_color}.')\n",
    "\n",
    "\n"
   ]
  },
  {
   "attachments": {},
   "cell_type": "markdown",
   "metadata": {},
   "source": [
    "# Heroku\n",
    "\n",
    "## Pipelines to Deployment Workflow\n",
    "[Deploying a Python Flask Example Application Using Heroku](https://realpython.com/flask-by-example-part-1-project-setup/#deploying-the-application-to-heroku)"
   ]
  },
  {
   "attachments": {},
   "cell_type": "markdown",
   "metadata": {},
   "source": [
    "# Flask\n",
    "\n",
    "[The Flask Mega-Tutorial Part XV: A Better Application Structure](https://blog.miguelgrinberg.com/post/the-flask-mega-tutorial-part-xv-a-better-application-structure)"
   ]
  },
  {
   "attachments": {},
   "cell_type": "markdown",
   "metadata": {},
   "source": [
    "### Caching\n",
    "[Flask-caching](https://www.youtube.com/watch?v=iO0sL6Vyfps) <code>Flask</code> extension."
   ]
  }
 ],
 "metadata": {
  "kernelspec": {
   "display_name": "dashboard_invest-5AWLHTjn",
   "language": "python",
   "name": "python3"
  },
  "language_info": {
   "codemirror_mode": {
    "name": "ipython",
    "version": 3
   },
   "file_extension": ".py",
   "mimetype": "text/x-python",
   "name": "python",
   "nbconvert_exporter": "python",
   "pygments_lexer": "ipython3",
   "version": "3.11.2"
  },
  "orig_nbformat": 4
 },
 "nbformat": 4,
 "nbformat_minor": 2
}
