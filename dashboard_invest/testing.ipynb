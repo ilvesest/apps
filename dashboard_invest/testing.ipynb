{
 "cells": [
  {
   "cell_type": "code",
   "execution_count": 4,
   "metadata": {},
   "outputs": [
    {
     "data": {
      "text/html": [
       "<style>\n",
       "        .bk-notebook-logo {\n",
       "            display: block;\n",
       "            width: 20px;\n",
       "            height: 20px;\n",
       "            background-image: url(data:image/png;base64,iVBORw0KGgoAAAANSUhEUgAAABQAAAAUCAYAAACNiR0NAAAABHNCSVQICAgIfAhkiAAAAAlwSFlzAAALEgAACxIB0t1+/AAAABx0RVh0U29mdHdhcmUAQWRvYmUgRmlyZXdvcmtzIENTNui8sowAAAOkSURBVDiNjZRtaJVlGMd/1/08zzln5zjP1LWcU9N0NkN8m2CYjpgQYQXqSs0I84OLIC0hkEKoPtiH3gmKoiJDU7QpLgoLjLIQCpEsNJ1vqUOdO7ppbuec5+V+rj4ctwzd8IIbbi6u+8f1539dt3A78eXC7QizUF7gyV1fD1Yqg4JWz84yffhm0qkFqBogB9rM8tZdtwVsPUhWhGcFJngGeWrPzHm5oaMmkfEg1usvLFyc8jLRqDOMru7AyC8saQr7GG7f5fvDeH7Ej8CM66nIF+8yngt6HWaKh7k49Soy9nXurCi1o3qUbS3zWfrYeQDTB/Qj6kX6Ybhw4B+bOYoLKCC9H3Nu/leUTZ1JdRWkkn2ldcCamzrcf47KKXdAJllSlxAOkRgyHsGC/zRday5Qld9DyoM4/q/rUoy/CXh3jzOu3bHUVZeU+DEn8FInkPBFlu3+nW3Nw0mk6vCDiWg8CeJaxEwuHS3+z5RgY+YBR6V1Z1nxSOfoaPa4LASWxxdNp+VWTk7+4vzaou8v8PN+xo+KY2xsw6une2frhw05CTYOmQvsEhjhWjn0bmXPjpE1+kplmmkP3suftwTubK9Vq22qKmrBhpY4jvd5afdRA3wGjFAgcnTK2s4hY0/GPNIb0nErGMCRxWOOX64Z8RAC4oCXdklmEvcL8o0BfkNK4lUg9HTl+oPlQxdNo3Mg4Nv175e/1LDGzZen30MEjRUtmXSfiTVu1kK8W4txyV6BMKlbgk3lMwYCiusNy9fVfvvwMxv8Ynl6vxoByANLTWplvuj/nF9m2+PDtt1eiHPBr1oIfhCChQMBw6Aw0UulqTKZdfVvfG7VcfIqLG9bcldL/+pdWTLxLUy8Qq38heUIjh4XlzZxzQm19lLFlr8vdQ97rjZVOLf8nclzckbcD4wxXMidpX30sFd37Fv/GtwwhzhxGVAprjbg0gCAEeIgwCZyTV2Z1REEW8O4py0wsjeloKoMr6iCY6dP92H6Vw/oTyICIthibxjm/DfN9lVz8IqtqKYLUXfoKVMVQVVJOElGjrnnUt9T9wbgp8AyYKaGlqingHZU/uG2NTZSVqwHQTWkx9hxjkpWDaCg6Ckj5qebgBVbT3V3NNXMSiWSDdGV3hrtzla7J+duwPOToIg42ChPQOQjspnSlp1V+Gjdged7+8UN5CRAV7a5EdFNwCjEaBR27b3W890TE7g24NAP/mMDXRWrGoFPQI9ls/MWO2dWFAar/xcOIImbbpA3zgAAAABJRU5ErkJggg==);\n",
       "        }\n",
       "    </style>\n",
       "    <div>\n",
       "        <a href=\"https://bokeh.org\" target=\"_blank\" class=\"bk-notebook-logo\"></a>\n",
       "        <span id=\"p1003\">Loading BokehJS ...</span>\n",
       "    </div>\n"
      ]
     },
     "metadata": {},
     "output_type": "display_data"
    },
    {
     "data": {
      "application/javascript": "(function(root) {\n  function now() {\n    return new Date();\n  }\n\n  const force = true;\n\n  if (typeof root._bokeh_onload_callbacks === \"undefined\" || force === true) {\n    root._bokeh_onload_callbacks = [];\n    root._bokeh_is_loading = undefined;\n  }\n\nconst JS_MIME_TYPE = 'application/javascript';\n  const HTML_MIME_TYPE = 'text/html';\n  const EXEC_MIME_TYPE = 'application/vnd.bokehjs_exec.v0+json';\n  const CLASS_NAME = 'output_bokeh rendered_html';\n\n  /**\n   * Render data to the DOM node\n   */\n  function render(props, node) {\n    const script = document.createElement(\"script\");\n    node.appendChild(script);\n  }\n\n  /**\n   * Handle when an output is cleared or removed\n   */\n  function handleClearOutput(event, handle) {\n    const cell = handle.cell;\n\n    const id = cell.output_area._bokeh_element_id;\n    const server_id = cell.output_area._bokeh_server_id;\n    // Clean up Bokeh references\n    if (id != null && id in Bokeh.index) {\n      Bokeh.index[id].model.document.clear();\n      delete Bokeh.index[id];\n    }\n\n    if (server_id !== undefined) {\n      // Clean up Bokeh references\n      const cmd_clean = \"from bokeh.io.state import curstate; print(curstate().uuid_to_server['\" + server_id + \"'].get_sessions()[0].document.roots[0]._id)\";\n      cell.notebook.kernel.execute(cmd_clean, {\n        iopub: {\n          output: function(msg) {\n            const id = msg.content.text.trim();\n            if (id in Bokeh.index) {\n              Bokeh.index[id].model.document.clear();\n              delete Bokeh.index[id];\n            }\n          }\n        }\n      });\n      // Destroy server and session\n      const cmd_destroy = \"import bokeh.io.notebook as ion; ion.destroy_server('\" + server_id + \"')\";\n      cell.notebook.kernel.execute(cmd_destroy);\n    }\n  }\n\n  /**\n   * Handle when a new output is added\n   */\n  function handleAddOutput(event, handle) {\n    const output_area = handle.output_area;\n    const output = handle.output;\n\n    // limit handleAddOutput to display_data with EXEC_MIME_TYPE content only\n    if ((output.output_type != \"display_data\") || (!Object.prototype.hasOwnProperty.call(output.data, EXEC_MIME_TYPE))) {\n      return\n    }\n\n    const toinsert = output_area.element.find(\".\" + CLASS_NAME.split(' ')[0]);\n\n    if (output.metadata[EXEC_MIME_TYPE][\"id\"] !== undefined) {\n      toinsert[toinsert.length - 1].firstChild.textContent = output.data[JS_MIME_TYPE];\n      // store reference to embed id on output_area\n      output_area._bokeh_element_id = output.metadata[EXEC_MIME_TYPE][\"id\"];\n    }\n    if (output.metadata[EXEC_MIME_TYPE][\"server_id\"] !== undefined) {\n      const bk_div = document.createElement(\"div\");\n      bk_div.innerHTML = output.data[HTML_MIME_TYPE];\n      const script_attrs = bk_div.children[0].attributes;\n      for (let i = 0; i < script_attrs.length; i++) {\n        toinsert[toinsert.length - 1].firstChild.setAttribute(script_attrs[i].name, script_attrs[i].value);\n        toinsert[toinsert.length - 1].firstChild.textContent = bk_div.children[0].textContent\n      }\n      // store reference to server id on output_area\n      output_area._bokeh_server_id = output.metadata[EXEC_MIME_TYPE][\"server_id\"];\n    }\n  }\n\n  function register_renderer(events, OutputArea) {\n\n    function append_mime(data, metadata, element) {\n      // create a DOM node to render to\n      const toinsert = this.create_output_subarea(\n        metadata,\n        CLASS_NAME,\n        EXEC_MIME_TYPE\n      );\n      this.keyboard_manager.register_events(toinsert);\n      // Render to node\n      const props = {data: data, metadata: metadata[EXEC_MIME_TYPE]};\n      render(props, toinsert[toinsert.length - 1]);\n      element.append(toinsert);\n      return toinsert\n    }\n\n    /* Handle when an output is cleared or removed */\n    events.on('clear_output.CodeCell', handleClearOutput);\n    events.on('delete.Cell', handleClearOutput);\n\n    /* Handle when a new output is added */\n    events.on('output_added.OutputArea', handleAddOutput);\n\n    /**\n     * Register the mime type and append_mime function with output_area\n     */\n    OutputArea.prototype.register_mime_type(EXEC_MIME_TYPE, append_mime, {\n      /* Is output safe? */\n      safe: true,\n      /* Index of renderer in `output_area.display_order` */\n      index: 0\n    });\n  }\n\n  // register the mime type if in Jupyter Notebook environment and previously unregistered\n  if (root.Jupyter !== undefined) {\n    const events = require('base/js/events');\n    const OutputArea = require('notebook/js/outputarea').OutputArea;\n\n    if (OutputArea.prototype.mime_types().indexOf(EXEC_MIME_TYPE) == -1) {\n      register_renderer(events, OutputArea);\n    }\n  }\n  if (typeof (root._bokeh_timeout) === \"undefined\" || force === true) {\n    root._bokeh_timeout = Date.now() + 5000;\n    root._bokeh_failed_load = false;\n  }\n\n  const NB_LOAD_WARNING = {'data': {'text/html':\n     \"<div style='background-color: #fdd'>\\n\"+\n     \"<p>\\n\"+\n     \"BokehJS does not appear to have successfully loaded. If loading BokehJS from CDN, this \\n\"+\n     \"may be due to a slow or bad network connection. Possible fixes:\\n\"+\n     \"</p>\\n\"+\n     \"<ul>\\n\"+\n     \"<li>re-rerun `output_notebook()` to attempt to load from CDN again, or</li>\\n\"+\n     \"<li>use INLINE resources instead, as so:</li>\\n\"+\n     \"</ul>\\n\"+\n     \"<code>\\n\"+\n     \"from bokeh.resources import INLINE\\n\"+\n     \"output_notebook(resources=INLINE)\\n\"+\n     \"</code>\\n\"+\n     \"</div>\"}};\n\n  function display_loaded() {\n    const el = document.getElementById(\"p1003\");\n    if (el != null) {\n      el.textContent = \"BokehJS is loading...\";\n    }\n    if (root.Bokeh !== undefined) {\n      if (el != null) {\n        el.textContent = \"BokehJS \" + root.Bokeh.version + \" successfully loaded.\";\n      }\n    } else if (Date.now() < root._bokeh_timeout) {\n      setTimeout(display_loaded, 100)\n    }\n  }\n\n  function run_callbacks() {\n    try {\n      root._bokeh_onload_callbacks.forEach(function(callback) {\n        if (callback != null)\n          callback();\n      });\n    } finally {\n      delete root._bokeh_onload_callbacks\n    }\n    console.debug(\"Bokeh: all callbacks have finished\");\n  }\n\n  function load_libs(css_urls, js_urls, callback) {\n    if (css_urls == null) css_urls = [];\n    if (js_urls == null) js_urls = [];\n\n    root._bokeh_onload_callbacks.push(callback);\n    if (root._bokeh_is_loading > 0) {\n      console.debug(\"Bokeh: BokehJS is being loaded, scheduling callback at\", now());\n      return null;\n    }\n    if (js_urls == null || js_urls.length === 0) {\n      run_callbacks();\n      return null;\n    }\n    console.debug(\"Bokeh: BokehJS not loaded, scheduling load and callback at\", now());\n    root._bokeh_is_loading = css_urls.length + js_urls.length;\n\n    function on_load() {\n      root._bokeh_is_loading--;\n      if (root._bokeh_is_loading === 0) {\n        console.debug(\"Bokeh: all BokehJS libraries/stylesheets loaded\");\n        run_callbacks()\n      }\n    }\n\n    function on_error(url) {\n      console.error(\"failed to load \" + url);\n    }\n\n    for (let i = 0; i < css_urls.length; i++) {\n      const url = css_urls[i];\n      const element = document.createElement(\"link\");\n      element.onload = on_load;\n      element.onerror = on_error.bind(null, url);\n      element.rel = \"stylesheet\";\n      element.type = \"text/css\";\n      element.href = url;\n      console.debug(\"Bokeh: injecting link tag for BokehJS stylesheet: \", url);\n      document.body.appendChild(element);\n    }\n\n    for (let i = 0; i < js_urls.length; i++) {\n      const url = js_urls[i];\n      const element = document.createElement('script');\n      element.onload = on_load;\n      element.onerror = on_error.bind(null, url);\n      element.async = false;\n      element.src = url;\n      console.debug(\"Bokeh: injecting script tag for BokehJS library: \", url);\n      document.head.appendChild(element);\n    }\n  };\n\n  function inject_raw_css(css) {\n    const element = document.createElement(\"style\");\n    element.appendChild(document.createTextNode(css));\n    document.body.appendChild(element);\n  }\n\n  const js_urls = [\"https://cdn.bokeh.org/bokeh/release/bokeh-3.0.3.min.js\", \"https://cdn.bokeh.org/bokeh/release/bokeh-gl-3.0.3.min.js\", \"https://cdn.bokeh.org/bokeh/release/bokeh-widgets-3.0.3.min.js\", \"https://cdn.bokeh.org/bokeh/release/bokeh-tables-3.0.3.min.js\", \"https://cdn.bokeh.org/bokeh/release/bokeh-mathjax-3.0.3.min.js\"];\n  const css_urls = [];\n\n  const inline_js = [    function(Bokeh) {\n      Bokeh.set_log_level(\"info\");\n    },\nfunction(Bokeh) {\n    }\n  ];\n\n  function run_inline_js() {\n    if (root.Bokeh !== undefined || force === true) {\n          for (let i = 0; i < inline_js.length; i++) {\n      inline_js[i].call(root, root.Bokeh);\n    }\nif (force === true) {\n        display_loaded();\n      }} else if (Date.now() < root._bokeh_timeout) {\n      setTimeout(run_inline_js, 100);\n    } else if (!root._bokeh_failed_load) {\n      console.log(\"Bokeh: BokehJS failed to load within specified timeout.\");\n      root._bokeh_failed_load = true;\n    } else if (force !== true) {\n      const cell = $(document.getElementById(\"p1003\")).parents('.cell').data().cell;\n      cell.output_area.append_execute_result(NB_LOAD_WARNING)\n    }\n  }\n\n  if (root._bokeh_is_loading === 0) {\n    console.debug(\"Bokeh: BokehJS loaded, going straight to plotting\");\n    run_inline_js();\n  } else {\n    load_libs(css_urls, js_urls, function() {\n      console.debug(\"Bokeh: BokehJS plotting callback run at\", now());\n      run_inline_js();\n    });\n  }\n}(window));",
      "application/vnd.bokehjs_load.v0+json": ""
     },
     "metadata": {},
     "output_type": "display_data"
    }
   ],
   "source": [
    "from dashboard.logic.io import *\n",
    "from dashboard.logic.plots import components, donut_chart\n",
    "from dashboard.logic.constants import getMetaDataDict\n",
    "\n",
    "# 3rd part imports\n",
    "import numpy as np\n",
    "import pandas as pd\n",
    "pd.options.mode.chained_assignment = None\n",
    "\n",
    "from bokeh.io import output_notebook, show\n",
    "\n",
    "output_notebook()"
   ]
  },
  {
   "cell_type": "code",
   "execution_count": 1,
   "metadata": {},
   "outputs": [],
   "source": [
    "a = 'tere'"
   ]
  },
  {
   "attachments": {},
   "cell_type": "markdown",
   "metadata": {},
   "source": [
    "# CACHING"
   ]
  },
  {
   "attachments": {},
   "cell_type": "markdown",
   "metadata": {},
   "source": [
    "### Download Workbook as .xlsx with timestamp"
   ]
  },
  {
   "cell_type": "code",
   "execution_count": 5,
   "metadata": {},
   "outputs": [],
   "source": [
    "from dashboard.logic.constants import nav_names\n",
    "from dashboard.logic.io import *\n",
    "\n",
    "#dct = nav_names['2023 Forecasts & Risks']\n",
    "dct = nav_names['Investment Allocation Examples']\n",
    "\n",
    "\n",
    "path = \"/home/tonu/Documents/apps/dashboard_invest/dashboard/cache/example_portf\"\n",
    "df = read_gsheet(, header=None)\n",
    "mask_df = df.apply(lambda x: x.str.startswith(\"IDEAL PORTFOLIO\"))\n"
   ]
  },
  {
   "attachments": {},
   "cell_type": "markdown",
   "metadata": {},
   "source": [
    "# Plotting"
   ]
  },
  {
   "cell_type": "code",
   "execution_count": 10,
   "metadata": {},
   "outputs": [],
   "source": [
    "import pandas as pd\n",
    "import numpy as np\n",
    "\n",
    "# bokeh\n",
    "from bokeh.io import show, output_notebook\n",
    "from bokeh.palettes import Category10\n",
    "from bokeh.plotting import figure\n",
    "from bokeh.models import ColumnDataSource, Legend, LabelSet, LegendItem, HoverTool, AnnularWedge\n",
    "from bokeh.layouts import column"
   ]
  },
  {
   "cell_type": "code",
   "execution_count": 61,
   "metadata": {},
   "outputs": [
    {
     "data": {
      "text/html": [
       "\n",
       "  <div id=\"66a189bc-2864-424e-ba86-d3f23408f3f4\" data-root-id=\"p43740\" style=\"display: contents;\"></div>\n"
      ]
     },
     "metadata": {},
     "output_type": "display_data"
    },
    {
     "data": {
      "application/javascript": "(function(root) {\n  function embed_document(root) {\n  const docs_json = {\"8cd6973e-7b00-476d-a99c-04227123fb13\":{\"version\":\"3.0.3\",\"title\":\"Bokeh Application\",\"defs\":[],\"roots\":[{\"type\":\"object\",\"name\":\"Figure\",\"id\":\"p43740\",\"attributes\":{\"width\":500,\"height\":500,\"sizing_mode\":\"fixed\",\"x_range\":{\"type\":\"object\",\"name\":\"Range1d\",\"id\":\"p43749\",\"attributes\":{\"start\":-1}},\"y_range\":{\"type\":\"object\",\"name\":\"Range1d\",\"id\":\"p43751\",\"attributes\":{\"start\":-1.0}},\"x_scale\":{\"type\":\"object\",\"name\":\"LinearScale\",\"id\":\"p43753\"},\"y_scale\":{\"type\":\"object\",\"name\":\"LinearScale\",\"id\":\"p43755\"},\"title\":{\"type\":\"object\",\"name\":\"Title\",\"id\":\"p43748\"},\"outline_line_color\":\"#2C2B2B\",\"outline_line_alpha\":0,\"outline_line_width\":0,\"renderers\":[{\"type\":\"object\",\"name\":\"GlyphRenderer\",\"id\":\"p43796\",\"attributes\":{\"data_source\":{\"type\":\"object\",\"name\":\"ColumnDataSource\",\"id\":\"p43786\",\"attributes\":{\"selected\":{\"type\":\"object\",\"name\":\"Selection\",\"id\":\"p43787\",\"attributes\":{\"indices\":[],\"line_indices\":[]}},\"selection_policy\":{\"type\":\"object\",\"name\":\"UnionRenderers\",\"id\":\"p43788\"},\"data\":{\"type\":\"map\",\"entries\":[[\"index\",{\"type\":\"ndarray\",\"array\":{\"type\":\"bytes\",\"data\":\"AAAAAA==\"},\"shape\":[1],\"dtype\":\"int32\",\"order\":\"little\"}],[\"Sector\",{\"type\":\"ndarray\",\"array\":[\"AGRICULTURE\"],\"shape\":[1],\"dtype\":\"object\",\"order\":\"little\"}],[\"Comment\",{\"type\":\"ndarray\",\"array\":[\"<button type=\\\"button\\\" class=\\\"btn btn-secondary btn-sm\\\" data-bs-content=\\\"Food shortages are near, this industry should perform well (if they can get fertiliser).. I will update this as/when I see new opportunites forming. \\\"data-bs-toggle=\\\"popover\\\" data-bs-trigger=\\\"focus\\\" style=\\\"--bs-btn-font-size: .85rem\\\">Details</button>\"],\"shape\":[1],\"dtype\":\"object\",\"order\":\"little\"}],[\"Proportion\",{\"type\":\"ndarray\",\"array\":[20.0],\"shape\":[1],\"dtype\":\"object\",\"order\":\"little\"}],[\"angle\",{\"type\":\"ndarray\",\"array\":[1.2566370614359172],\"shape\":[1],\"dtype\":\"object\",\"order\":\"little\"}],[\"cumsum_start\",{\"type\":\"ndarray\",\"array\":[0.0],\"shape\":[1],\"dtype\":\"object\",\"order\":\"little\"}],[\"cumsum_end\",{\"type\":\"ndarray\",\"array\":[1.2566370614359172],\"shape\":[1],\"dtype\":\"object\",\"order\":\"little\"}],[\"percentage_number\",{\"type\":\"ndarray\",\"array\":[20.0],\"shape\":[1],\"dtype\":\"object\",\"order\":\"little\"}],[\"percentage_hover\",{\"type\":\"ndarray\",\"array\":[\"20.0\"],\"shape\":[1],\"dtype\":\"object\",\"order\":\"little\"}],[\"percentage_label\",{\"type\":\"ndarray\",\"array\":[\"20%\"],\"shape\":[1],\"dtype\":\"object\",\"order\":\"little\"}],[\"label_x_pos\",{\"type\":\"ndarray\",\"array\":[0.5015905365124674],\"shape\":[1],\"dtype\":\"object\",\"order\":\"little\"}],[\"label_y_pos\",{\"type\":\"ndarray\",\"array\":[0.3644268564213334],\"shape\":[1],\"dtype\":\"object\",\"order\":\"little\"}]]}}},\"view\":{\"type\":\"object\",\"name\":\"CDSView\",\"id\":\"p43797\",\"attributes\":{\"filter\":{\"type\":\"object\",\"name\":\"AllIndices\",\"id\":\"p43798\"}}},\"glyph\":{\"type\":\"object\",\"name\":\"AnnularWedge\",\"id\":\"p43792\",\"attributes\":{\"x\":{\"type\":\"value\",\"value\":0},\"y\":{\"type\":\"value\",\"value\":0},\"inner_radius\":{\"type\":\"value\",\"value\":0.4},\"outer_radius\":{\"type\":\"value\",\"value\":0.8},\"start_angle\":{\"type\":\"field\",\"field\":\"cumsum_start\"},\"end_angle\":{\"type\":\"field\",\"field\":\"cumsum_end\"},\"line_color\":{\"type\":\"value\",\"value\":\"#2C2B2B\"},\"line_width\":{\"type\":\"value\",\"value\":3},\"fill_color\":{\"type\":\"value\",\"value\":\"#1f77b4\"},\"fill_alpha\":{\"type\":\"value\",\"value\":0.7},\"hatch_alpha\":{\"type\":\"value\",\"value\":0.7}}},\"nonselection_glyph\":{\"type\":\"object\",\"name\":\"AnnularWedge\",\"id\":\"p43793\",\"attributes\":{\"x\":{\"type\":\"value\",\"value\":0},\"y\":{\"type\":\"value\",\"value\":0},\"inner_radius\":{\"type\":\"value\",\"value\":0.4},\"outer_radius\":{\"type\":\"value\",\"value\":0.8},\"start_angle\":{\"type\":\"field\",\"field\":\"cumsum_start\"},\"end_angle\":{\"type\":\"field\",\"field\":\"cumsum_end\"},\"line_color\":{\"type\":\"value\",\"value\":\"#2C2B2B\"},\"line_alpha\":{\"type\":\"value\",\"value\":0.1},\"line_width\":{\"type\":\"value\",\"value\":3},\"fill_color\":{\"type\":\"value\",\"value\":\"#1f77b4\"},\"fill_alpha\":{\"type\":\"value\",\"value\":0.1},\"hatch_alpha\":{\"type\":\"value\",\"value\":0.1}}},\"hover_glyph\":{\"type\":\"object\",\"name\":\"AnnularWedge\",\"id\":\"p43794\",\"attributes\":{\"x\":{\"type\":\"value\",\"value\":0},\"y\":{\"type\":\"value\",\"value\":0},\"inner_radius\":{\"type\":\"value\",\"value\":0.4},\"outer_radius\":{\"type\":\"value\",\"value\":0.8},\"start_angle\":{\"type\":\"field\",\"field\":\"cumsum_start\"},\"end_angle\":{\"type\":\"field\",\"field\":\"cumsum_end\"},\"line_color\":{\"type\":\"value\",\"value\":\"#2C2B2B\"},\"line_width\":{\"type\":\"value\",\"value\":3},\"fill_color\":{\"type\":\"value\",\"value\":\"#1f77b4\"}}},\"muted_glyph\":{\"type\":\"object\",\"name\":\"AnnularWedge\",\"id\":\"p43795\",\"attributes\":{\"x\":{\"type\":\"value\",\"value\":0},\"y\":{\"type\":\"value\",\"value\":0},\"inner_radius\":{\"type\":\"value\",\"value\":0.4},\"outer_radius\":{\"type\":\"value\",\"value\":0.8},\"start_angle\":{\"type\":\"field\",\"field\":\"cumsum_start\"},\"end_angle\":{\"type\":\"field\",\"field\":\"cumsum_end\"},\"line_color\":{\"type\":\"value\",\"value\":\"#2C2B2B\"},\"line_alpha\":{\"type\":\"value\",\"value\":0.2},\"line_width\":{\"type\":\"value\",\"value\":3},\"fill_color\":{\"type\":\"value\",\"value\":\"#1f77b4\"},\"fill_alpha\":{\"type\":\"value\",\"value\":0.2},\"hatch_alpha\":{\"type\":\"value\",\"value\":0.2}}}}},{\"type\":\"object\",\"name\":\"GlyphRenderer\",\"id\":\"p43816\",\"attributes\":{\"data_source\":{\"type\":\"object\",\"name\":\"ColumnDataSource\",\"id\":\"p43806\",\"attributes\":{\"selected\":{\"type\":\"object\",\"name\":\"Selection\",\"id\":\"p43807\",\"attributes\":{\"indices\":[],\"line_indices\":[]}},\"selection_policy\":{\"type\":\"object\",\"name\":\"UnionRenderers\",\"id\":\"p43808\"},\"data\":{\"type\":\"map\",\"entries\":[[\"index\",{\"type\":\"ndarray\",\"array\":{\"type\":\"bytes\",\"data\":\"AQAAAA==\"},\"shape\":[1],\"dtype\":\"int32\",\"order\":\"little\"}],[\"Sector\",{\"type\":\"ndarray\",\"array\":[\"CHEAP TECH\"],\"shape\":[1],\"dtype\":\"object\",\"order\":\"little\"}],[\"Comment\",{\"type\":\"ndarray\",\"array\":[\"<button type=\\\"button\\\" class=\\\"btn btn-secondary btn-sm\\\" data-bs-content=\\\"Great Tech stocks that have lost 80-90% of their value.. For cheap tech, understand I am referring to tech stocks which have lost a huge amount of value but which still have strong fundamentals. Don't just buy crap! Put in the research!. \\\"data-bs-toggle=\\\"popover\\\" data-bs-trigger=\\\"focus\\\" style=\\\"--bs-btn-font-size: .85rem\\\">Details</button>\"],\"shape\":[1],\"dtype\":\"object\",\"order\":\"little\"}],[\"Proportion\",{\"type\":\"ndarray\",\"array\":[20.0],\"shape\":[1],\"dtype\":\"object\",\"order\":\"little\"}],[\"angle\",{\"type\":\"ndarray\",\"array\":[1.2566370614359172],\"shape\":[1],\"dtype\":\"object\",\"order\":\"little\"}],[\"cumsum_start\",{\"type\":\"ndarray\",\"array\":[1.2566370614359172],\"shape\":[1],\"dtype\":\"object\",\"order\":\"little\"}],[\"cumsum_end\",{\"type\":\"ndarray\",\"array\":[2.5132741228718345],\"shape\":[1],\"dtype\":\"object\",\"order\":\"little\"}],[\"percentage_number\",{\"type\":\"ndarray\",\"array\":[20.0],\"shape\":[1],\"dtype\":\"object\",\"order\":\"little\"}],[\"percentage_hover\",{\"type\":\"ndarray\",\"array\":[\"20.0\"],\"shape\":[1],\"dtype\":\"object\",\"order\":\"little\"}],[\"percentage_label\",{\"type\":\"ndarray\",\"array\":[\"20%\"],\"shape\":[1],\"dtype\":\"object\",\"order\":\"little\"}],[\"label_x_pos\",{\"type\":\"ndarray\",\"array\":[-0.19159053651246738],\"shape\":[1],\"dtype\":\"object\",\"order\":\"little\"}],[\"label_y_pos\",{\"type\":\"ndarray\",\"array\":[0.5896550401029953],\"shape\":[1],\"dtype\":\"object\",\"order\":\"little\"}]]}}},\"view\":{\"type\":\"object\",\"name\":\"CDSView\",\"id\":\"p43817\",\"attributes\":{\"filter\":{\"type\":\"object\",\"name\":\"AllIndices\",\"id\":\"p43818\"}}},\"glyph\":{\"type\":\"object\",\"name\":\"AnnularWedge\",\"id\":\"p43812\",\"attributes\":{\"x\":{\"type\":\"value\",\"value\":0},\"y\":{\"type\":\"value\",\"value\":0},\"inner_radius\":{\"type\":\"value\",\"value\":0.4},\"outer_radius\":{\"type\":\"value\",\"value\":0.8},\"start_angle\":{\"type\":\"field\",\"field\":\"cumsum_start\"},\"end_angle\":{\"type\":\"field\",\"field\":\"cumsum_end\"},\"line_color\":{\"type\":\"value\",\"value\":\"#2C2B2B\"},\"line_width\":{\"type\":\"value\",\"value\":3},\"fill_color\":{\"type\":\"value\",\"value\":\"#ff7f0e\"},\"fill_alpha\":{\"type\":\"value\",\"value\":0.7},\"hatch_alpha\":{\"type\":\"value\",\"value\":0.7}}},\"nonselection_glyph\":{\"type\":\"object\",\"name\":\"AnnularWedge\",\"id\":\"p43813\",\"attributes\":{\"x\":{\"type\":\"value\",\"value\":0},\"y\":{\"type\":\"value\",\"value\":0},\"inner_radius\":{\"type\":\"value\",\"value\":0.4},\"outer_radius\":{\"type\":\"value\",\"value\":0.8},\"start_angle\":{\"type\":\"field\",\"field\":\"cumsum_start\"},\"end_angle\":{\"type\":\"field\",\"field\":\"cumsum_end\"},\"line_color\":{\"type\":\"value\",\"value\":\"#2C2B2B\"},\"line_alpha\":{\"type\":\"value\",\"value\":0.1},\"line_width\":{\"type\":\"value\",\"value\":3},\"fill_color\":{\"type\":\"value\",\"value\":\"#ff7f0e\"},\"fill_alpha\":{\"type\":\"value\",\"value\":0.1},\"hatch_alpha\":{\"type\":\"value\",\"value\":0.1}}},\"hover_glyph\":{\"type\":\"object\",\"name\":\"AnnularWedge\",\"id\":\"p43814\",\"attributes\":{\"x\":{\"type\":\"value\",\"value\":0},\"y\":{\"type\":\"value\",\"value\":0},\"inner_radius\":{\"type\":\"value\",\"value\":0.4},\"outer_radius\":{\"type\":\"value\",\"value\":0.8},\"start_angle\":{\"type\":\"field\",\"field\":\"cumsum_start\"},\"end_angle\":{\"type\":\"field\",\"field\":\"cumsum_end\"},\"line_color\":{\"type\":\"value\",\"value\":\"#2C2B2B\"},\"line_width\":{\"type\":\"value\",\"value\":3},\"fill_color\":{\"type\":\"value\",\"value\":\"#ff7f0e\"}}},\"muted_glyph\":{\"type\":\"object\",\"name\":\"AnnularWedge\",\"id\":\"p43815\",\"attributes\":{\"x\":{\"type\":\"value\",\"value\":0},\"y\":{\"type\":\"value\",\"value\":0},\"inner_radius\":{\"type\":\"value\",\"value\":0.4},\"outer_radius\":{\"type\":\"value\",\"value\":0.8},\"start_angle\":{\"type\":\"field\",\"field\":\"cumsum_start\"},\"end_angle\":{\"type\":\"field\",\"field\":\"cumsum_end\"},\"line_color\":{\"type\":\"value\",\"value\":\"#2C2B2B\"},\"line_alpha\":{\"type\":\"value\",\"value\":0.2},\"line_width\":{\"type\":\"value\",\"value\":3},\"fill_color\":{\"type\":\"value\",\"value\":\"#ff7f0e\"},\"fill_alpha\":{\"type\":\"value\",\"value\":0.2},\"hatch_alpha\":{\"type\":\"value\",\"value\":0.2}}}}},{\"type\":\"object\",\"name\":\"GlyphRenderer\",\"id\":\"p43836\",\"attributes\":{\"data_source\":{\"type\":\"object\",\"name\":\"ColumnDataSource\",\"id\":\"p43826\",\"attributes\":{\"selected\":{\"type\":\"object\",\"name\":\"Selection\",\"id\":\"p43827\",\"attributes\":{\"indices\":[],\"line_indices\":[]}},\"selection_policy\":{\"type\":\"object\",\"name\":\"UnionRenderers\",\"id\":\"p43828\"},\"data\":{\"type\":\"map\",\"entries\":[[\"index\",{\"type\":\"ndarray\",\"array\":{\"type\":\"bytes\",\"data\":\"AgAAAA==\"},\"shape\":[1],\"dtype\":\"int32\",\"order\":\"little\"}],[\"Sector\",{\"type\":\"ndarray\",\"array\":[\"ENERGY\"],\"shape\":[1],\"dtype\":\"object\",\"order\":\"little\"}],[\"Comment\",{\"type\":\"ndarray\",\"array\":[\"<button type=\\\"button\\\" class=\\\"btn btn-secondary btn-sm\\\" data-bs-content=\\\"(Coal, Oil, Gas, Petroleum & Uranium). The coal sector has one of the lowest PE ratio's right now! (meaning very cheap value stocks).. This allocation suggestion has continued to be extremely accurate throughout 2021-2022.. \\\"data-bs-toggle=\\\"popover\\\" data-bs-trigger=\\\"focus\\\" style=\\\"--bs-btn-font-size: .85rem\\\">Details</button>\"],\"shape\":[1],\"dtype\":\"object\",\"order\":\"little\"}],[\"Proportion\",{\"type\":\"ndarray\",\"array\":[30.0],\"shape\":[1],\"dtype\":\"object\",\"order\":\"little\"}],[\"angle\",{\"type\":\"ndarray\",\"array\":[1.8849555921538759],\"shape\":[1],\"dtype\":\"object\",\"order\":\"little\"}],[\"cumsum_start\",{\"type\":\"ndarray\",\"array\":[2.5132741228718345],\"shape\":[1],\"dtype\":\"object\",\"order\":\"little\"}],[\"cumsum_end\",{\"type\":\"ndarray\",\"array\":[4.39822971502571],\"shape\":[1],\"dtype\":\"object\",\"order\":\"little\"}],[\"percentage_number\",{\"type\":\"ndarray\",\"array\":[30.0],\"shape\":[1],\"dtype\":\"object\",\"order\":\"little\"}],[\"percentage_hover\",{\"type\":\"ndarray\",\"array\":[\"30.0\"],\"shape\":[1],\"dtype\":\"object\",\"order\":\"little\"}],[\"percentage_label\",{\"type\":\"ndarray\",\"array\":[\"30%\"],\"shape\":[1],\"dtype\":\"object\",\"order\":\"little\"}],[\"label_x_pos\",{\"type\":\"ndarray\",\"array\":[-0.5896550401029953],\"shape\":[1],\"dtype\":\"object\",\"order\":\"little\"}],[\"label_y_pos\",{\"type\":\"ndarray\",\"array\":[-0.19159053651246732],\"shape\":[1],\"dtype\":\"object\",\"order\":\"little\"}]]}}},\"view\":{\"type\":\"object\",\"name\":\"CDSView\",\"id\":\"p43837\",\"attributes\":{\"filter\":{\"type\":\"object\",\"name\":\"AllIndices\",\"id\":\"p43838\"}}},\"glyph\":{\"type\":\"object\",\"name\":\"AnnularWedge\",\"id\":\"p43832\",\"attributes\":{\"x\":{\"type\":\"value\",\"value\":0},\"y\":{\"type\":\"value\",\"value\":0},\"inner_radius\":{\"type\":\"value\",\"value\":0.4},\"outer_radius\":{\"type\":\"value\",\"value\":0.8},\"start_angle\":{\"type\":\"field\",\"field\":\"cumsum_start\"},\"end_angle\":{\"type\":\"field\",\"field\":\"cumsum_end\"},\"line_color\":{\"type\":\"value\",\"value\":\"#2C2B2B\"},\"line_width\":{\"type\":\"value\",\"value\":3},\"fill_color\":{\"type\":\"value\",\"value\":\"#2ca02c\"},\"fill_alpha\":{\"type\":\"value\",\"value\":0.7},\"hatch_alpha\":{\"type\":\"value\",\"value\":0.7}}},\"nonselection_glyph\":{\"type\":\"object\",\"name\":\"AnnularWedge\",\"id\":\"p43833\",\"attributes\":{\"x\":{\"type\":\"value\",\"value\":0},\"y\":{\"type\":\"value\",\"value\":0},\"inner_radius\":{\"type\":\"value\",\"value\":0.4},\"outer_radius\":{\"type\":\"value\",\"value\":0.8},\"start_angle\":{\"type\":\"field\",\"field\":\"cumsum_start\"},\"end_angle\":{\"type\":\"field\",\"field\":\"cumsum_end\"},\"line_color\":{\"type\":\"value\",\"value\":\"#2C2B2B\"},\"line_alpha\":{\"type\":\"value\",\"value\":0.1},\"line_width\":{\"type\":\"value\",\"value\":3},\"fill_color\":{\"type\":\"value\",\"value\":\"#2ca02c\"},\"fill_alpha\":{\"type\":\"value\",\"value\":0.1},\"hatch_alpha\":{\"type\":\"value\",\"value\":0.1}}},\"hover_glyph\":{\"type\":\"object\",\"name\":\"AnnularWedge\",\"id\":\"p43834\",\"attributes\":{\"x\":{\"type\":\"value\",\"value\":0},\"y\":{\"type\":\"value\",\"value\":0},\"inner_radius\":{\"type\":\"value\",\"value\":0.4},\"outer_radius\":{\"type\":\"value\",\"value\":0.8},\"start_angle\":{\"type\":\"field\",\"field\":\"cumsum_start\"},\"end_angle\":{\"type\":\"field\",\"field\":\"cumsum_end\"},\"line_color\":{\"type\":\"value\",\"value\":\"#2C2B2B\"},\"line_width\":{\"type\":\"value\",\"value\":3},\"fill_color\":{\"type\":\"value\",\"value\":\"#2ca02c\"}}},\"muted_glyph\":{\"type\":\"object\",\"name\":\"AnnularWedge\",\"id\":\"p43835\",\"attributes\":{\"x\":{\"type\":\"value\",\"value\":0},\"y\":{\"type\":\"value\",\"value\":0},\"inner_radius\":{\"type\":\"value\",\"value\":0.4},\"outer_radius\":{\"type\":\"value\",\"value\":0.8},\"start_angle\":{\"type\":\"field\",\"field\":\"cumsum_start\"},\"end_angle\":{\"type\":\"field\",\"field\":\"cumsum_end\"},\"line_color\":{\"type\":\"value\",\"value\":\"#2C2B2B\"},\"line_alpha\":{\"type\":\"value\",\"value\":0.2},\"line_width\":{\"type\":\"value\",\"value\":3},\"fill_color\":{\"type\":\"value\",\"value\":\"#2ca02c\"},\"fill_alpha\":{\"type\":\"value\",\"value\":0.2},\"hatch_alpha\":{\"type\":\"value\",\"value\":0.2}}}}},{\"type\":\"object\",\"name\":\"GlyphRenderer\",\"id\":\"p43856\",\"attributes\":{\"data_source\":{\"type\":\"object\",\"name\":\"ColumnDataSource\",\"id\":\"p43846\",\"attributes\":{\"selected\":{\"type\":\"object\",\"name\":\"Selection\",\"id\":\"p43847\",\"attributes\":{\"indices\":[],\"line_indices\":[]}},\"selection_policy\":{\"type\":\"object\",\"name\":\"UnionRenderers\",\"id\":\"p43848\"},\"data\":{\"type\":\"map\",\"entries\":[[\"index\",{\"type\":\"ndarray\",\"array\":{\"type\":\"bytes\",\"data\":\"AwAAAA==\"},\"shape\":[1],\"dtype\":\"int32\",\"order\":\"little\"}],[\"Sector\",{\"type\":\"ndarray\",\"array\":[\"MINING\"],\"shape\":[1],\"dtype\":\"object\",\"order\":\"little\"}],[\"Comment\",{\"type\":\"ndarray\",\"array\":[\"<button type=\\\"button\\\" class=\\\"btn btn-secondary btn-sm\\\" data-bs-content=\\\"(PM) Precious Metals, (EV) Electric Vehicle, Gold Royalties/Streamers.  --------->. But be careful of a rising $USD! This restricts Emerging Markets!.. Unfortunately, mining has suffered due to a rising USD$ & weakening Emerging Markets. \\\"data-bs-toggle=\\\"popover\\\" data-bs-trigger=\\\"focus\\\" style=\\\"--bs-btn-font-size: .85rem\\\">Details</button>\"],\"shape\":[1],\"dtype\":\"object\",\"order\":\"little\"}],[\"Proportion\",{\"type\":\"ndarray\",\"array\":[30.0],\"shape\":[1],\"dtype\":\"object\",\"order\":\"little\"}],[\"angle\",{\"type\":\"ndarray\",\"array\":[1.8849555921538759],\"shape\":[1],\"dtype\":\"object\",\"order\":\"little\"}],[\"cumsum_start\",{\"type\":\"ndarray\",\"array\":[4.39822971502571],\"shape\":[1],\"dtype\":\"object\",\"order\":\"little\"}],[\"cumsum_end\",{\"type\":\"ndarray\",\"array\":[6.283185307179586],\"shape\":[1],\"dtype\":\"object\",\"order\":\"little\"}],[\"percentage_number\",{\"type\":\"ndarray\",\"array\":[30.0],\"shape\":[1],\"dtype\":\"object\",\"order\":\"little\"}],[\"percentage_hover\",{\"type\":\"ndarray\",\"array\":[\"30.0\"],\"shape\":[1],\"dtype\":\"object\",\"order\":\"little\"}],[\"percentage_label\",{\"type\":\"ndarray\",\"array\":[\"30%\"],\"shape\":[1],\"dtype\":\"object\",\"order\":\"little\"}],[\"label_x_pos\",{\"type\":\"ndarray\",\"array\":[0.36442685642133327],\"shape\":[1],\"dtype\":\"object\",\"order\":\"little\"}],[\"label_y_pos\",{\"type\":\"ndarray\",\"array\":[-0.5015905365124675],\"shape\":[1],\"dtype\":\"object\",\"order\":\"little\"}]]}}},\"view\":{\"type\":\"object\",\"name\":\"CDSView\",\"id\":\"p43857\",\"attributes\":{\"filter\":{\"type\":\"object\",\"name\":\"AllIndices\",\"id\":\"p43858\"}}},\"glyph\":{\"type\":\"object\",\"name\":\"AnnularWedge\",\"id\":\"p43852\",\"attributes\":{\"x\":{\"type\":\"value\",\"value\":0},\"y\":{\"type\":\"value\",\"value\":0},\"inner_radius\":{\"type\":\"value\",\"value\":0.4},\"outer_radius\":{\"type\":\"value\",\"value\":0.8},\"start_angle\":{\"type\":\"field\",\"field\":\"cumsum_start\"},\"end_angle\":{\"type\":\"field\",\"field\":\"cumsum_end\"},\"line_color\":{\"type\":\"value\",\"value\":\"#2C2B2B\"},\"line_width\":{\"type\":\"value\",\"value\":3},\"fill_color\":{\"type\":\"value\",\"value\":\"#d62728\"},\"fill_alpha\":{\"type\":\"value\",\"value\":0.7},\"hatch_alpha\":{\"type\":\"value\",\"value\":0.7}}},\"nonselection_glyph\":{\"type\":\"object\",\"name\":\"AnnularWedge\",\"id\":\"p43853\",\"attributes\":{\"x\":{\"type\":\"value\",\"value\":0},\"y\":{\"type\":\"value\",\"value\":0},\"inner_radius\":{\"type\":\"value\",\"value\":0.4},\"outer_radius\":{\"type\":\"value\",\"value\":0.8},\"start_angle\":{\"type\":\"field\",\"field\":\"cumsum_start\"},\"end_angle\":{\"type\":\"field\",\"field\":\"cumsum_end\"},\"line_color\":{\"type\":\"value\",\"value\":\"#2C2B2B\"},\"line_alpha\":{\"type\":\"value\",\"value\":0.1},\"line_width\":{\"type\":\"value\",\"value\":3},\"fill_color\":{\"type\":\"value\",\"value\":\"#d62728\"},\"fill_alpha\":{\"type\":\"value\",\"value\":0.1},\"hatch_alpha\":{\"type\":\"value\",\"value\":0.1}}},\"hover_glyph\":{\"type\":\"object\",\"name\":\"AnnularWedge\",\"id\":\"p43854\",\"attributes\":{\"x\":{\"type\":\"value\",\"value\":0},\"y\":{\"type\":\"value\",\"value\":0},\"inner_radius\":{\"type\":\"value\",\"value\":0.4},\"outer_radius\":{\"type\":\"value\",\"value\":0.8},\"start_angle\":{\"type\":\"field\",\"field\":\"cumsum_start\"},\"end_angle\":{\"type\":\"field\",\"field\":\"cumsum_end\"},\"line_color\":{\"type\":\"value\",\"value\":\"#2C2B2B\"},\"line_width\":{\"type\":\"value\",\"value\":3},\"fill_color\":{\"type\":\"value\",\"value\":\"#d62728\"}}},\"muted_glyph\":{\"type\":\"object\",\"name\":\"AnnularWedge\",\"id\":\"p43855\",\"attributes\":{\"x\":{\"type\":\"value\",\"value\":0},\"y\":{\"type\":\"value\",\"value\":0},\"inner_radius\":{\"type\":\"value\",\"value\":0.4},\"outer_radius\":{\"type\":\"value\",\"value\":0.8},\"start_angle\":{\"type\":\"field\",\"field\":\"cumsum_start\"},\"end_angle\":{\"type\":\"field\",\"field\":\"cumsum_end\"},\"line_color\":{\"type\":\"value\",\"value\":\"#2C2B2B\"},\"line_alpha\":{\"type\":\"value\",\"value\":0.2},\"line_width\":{\"type\":\"value\",\"value\":3},\"fill_color\":{\"type\":\"value\",\"value\":\"#d62728\"},\"fill_alpha\":{\"type\":\"value\",\"value\":0.2},\"hatch_alpha\":{\"type\":\"value\",\"value\":0.2}}}}}],\"toolbar\":{\"type\":\"object\",\"name\":\"Toolbar\",\"id\":\"p43745\",\"attributes\":{\"tools\":[{\"type\":\"object\",\"name\":\"PanTool\",\"id\":\"p43771\"},{\"type\":\"object\",\"name\":\"WheelZoomTool\",\"id\":\"p43772\"},{\"type\":\"object\",\"name\":\"BoxZoomTool\",\"id\":\"p43773\",\"attributes\":{\"overlay\":{\"type\":\"object\",\"name\":\"BoxAnnotation\",\"id\":\"p43774\",\"attributes\":{\"syncable\":false,\"level\":\"overlay\",\"visible\":false,\"left_units\":\"canvas\",\"right_units\":\"canvas\",\"bottom_units\":\"canvas\",\"top_units\":\"canvas\",\"line_color\":\"black\",\"line_alpha\":1.0,\"line_width\":2,\"line_dash\":[4,4],\"fill_color\":\"lightgrey\",\"fill_alpha\":0.5}}}},{\"type\":\"object\",\"name\":\"SaveTool\",\"id\":\"p43775\"},{\"type\":\"object\",\"name\":\"ResetTool\",\"id\":\"p43776\"},{\"type\":\"object\",\"name\":\"HelpTool\",\"id\":\"p43777\"},{\"type\":\"object\",\"name\":\"HoverTool\",\"id\":\"p43803\",\"attributes\":{\"renderers\":[{\"id\":\"p43796\"}],\"tooltips\":\"\\n                <div>\\n                    <p style=\\\"margin:0;font-weight:bold;color:grey;\\\">@Sector</p>\\n                    <p style=\\\"padding:0;margin:0;font-weight:bold;\\\">$@Proportion{0,0.00} (@percentage_hover%)</p>\\n                </div>\\n                <style>\\n                    .bk-tooltip {\\n                        background-color: red!important;\\n                    }\\n                </style>\\n            \"}},{\"type\":\"object\",\"name\":\"HoverTool\",\"id\":\"p43823\",\"attributes\":{\"renderers\":[{\"id\":\"p43816\"}],\"tooltips\":\"\\n                <div>\\n                    <p style=\\\"margin:0;font-weight:bold;color:grey;\\\">@Sector</p>\\n                    <p style=\\\"padding:0;margin:0;font-weight:bold;\\\">$@Proportion{0,0.00} (@percentage_hover%)</p>\\n                </div>\\n                <style>\\n                    .bk-tooltip {\\n                        background-color: red!important;\\n                    }\\n                </style>\\n            \"}},{\"type\":\"object\",\"name\":\"HoverTool\",\"id\":\"p43843\",\"attributes\":{\"renderers\":[{\"id\":\"p43836\"}],\"tooltips\":\"\\n                <div>\\n                    <p style=\\\"margin:0;font-weight:bold;color:grey;\\\">@Sector</p>\\n                    <p style=\\\"padding:0;margin:0;font-weight:bold;\\\">$@Proportion{0,0.00} (@percentage_hover%)</p>\\n                </div>\\n                <style>\\n                    .bk-tooltip {\\n                        background-color: red!important;\\n                    }\\n                </style>\\n            \"}},{\"type\":\"object\",\"name\":\"HoverTool\",\"id\":\"p43863\",\"attributes\":{\"renderers\":[{\"id\":\"p43856\"}],\"tooltips\":\"\\n                <div>\\n                    <p style=\\\"margin:0;font-weight:bold;color:grey;\\\">@Sector</p>\\n                    <p style=\\\"padding:0;margin:0;font-weight:bold;\\\">$@Proportion{0,0.00} (@percentage_hover%)</p>\\n                </div>\\n                <style>\\n                    .bk-tooltip {\\n                        background-color: red!important;\\n                    }\\n                </style>\\n            \"}}],\"active_drag\":null}},\"toolbar_location\":null,\"left\":[{\"type\":\"object\",\"name\":\"LinearAxis\",\"id\":\"p43764\",\"attributes\":{\"visible\":false,\"ticker\":{\"type\":\"object\",\"name\":\"BasicTicker\",\"id\":\"p43765\",\"attributes\":{\"mantissas\":[1,2,5]}},\"formatter\":{\"type\":\"object\",\"name\":\"BasicTickFormatter\",\"id\":\"p43766\"},\"major_label_policy\":{\"type\":\"object\",\"name\":\"AllLabels\",\"id\":\"p43767\"}}}],\"below\":[{\"type\":\"object\",\"name\":\"LinearAxis\",\"id\":\"p43757\",\"attributes\":{\"visible\":false,\"ticker\":{\"type\":\"object\",\"name\":\"BasicTicker\",\"id\":\"p43758\",\"attributes\":{\"mantissas\":[1,2,5]}},\"formatter\":{\"type\":\"object\",\"name\":\"BasicTickFormatter\",\"id\":\"p43759\"},\"major_label_policy\":{\"type\":\"object\",\"name\":\"AllLabels\",\"id\":\"p43760\"}}}],\"center\":[{\"type\":\"object\",\"name\":\"Grid\",\"id\":\"p43763\",\"attributes\":{\"axis\":{\"id\":\"p43757\"},\"grid_line_color\":null}},{\"type\":\"object\",\"name\":\"Grid\",\"id\":\"p43770\",\"attributes\":{\"dimension\":1,\"axis\":{\"id\":\"p43764\"},\"grid_line_color\":null}},{\"type\":\"object\",\"name\":\"LabelSet\",\"id\":\"p43799\",\"attributes\":{\"level\":\"glyph\",\"source\":{\"id\":\"p43786\"},\"x\":{\"type\":\"field\",\"field\":\"label_x_pos\"},\"y\":{\"type\":\"field\",\"field\":\"label_y_pos\"},\"text\":{\"type\":\"field\",\"field\":\"percentage_label\"},\"text_color\":{\"type\":\"value\",\"value\":\"#2C2B2B\"},\"text_font_size\":{\"type\":\"value\",\"value\":\"12pt\"},\"text_font_style\":{\"type\":\"value\",\"value\":\"bold\"},\"text_align\":{\"type\":\"value\",\"value\":\"center\"}}},{\"type\":\"object\",\"name\":\"LabelSet\",\"id\":\"p43819\",\"attributes\":{\"level\":\"glyph\",\"source\":{\"id\":\"p43806\"},\"x\":{\"type\":\"field\",\"field\":\"label_x_pos\"},\"y\":{\"type\":\"field\",\"field\":\"label_y_pos\"},\"text\":{\"type\":\"field\",\"field\":\"percentage_label\"},\"text_color\":{\"type\":\"value\",\"value\":\"#2C2B2B\"},\"text_font_size\":{\"type\":\"value\",\"value\":\"12pt\"},\"text_font_style\":{\"type\":\"value\",\"value\":\"bold\"},\"text_align\":{\"type\":\"value\",\"value\":\"center\"}}},{\"type\":\"object\",\"name\":\"LabelSet\",\"id\":\"p43839\",\"attributes\":{\"level\":\"glyph\",\"source\":{\"id\":\"p43826\"},\"x\":{\"type\":\"field\",\"field\":\"label_x_pos\"},\"y\":{\"type\":\"field\",\"field\":\"label_y_pos\"},\"text\":{\"type\":\"field\",\"field\":\"percentage_label\"},\"text_color\":{\"type\":\"value\",\"value\":\"#2C2B2B\"},\"text_font_size\":{\"type\":\"value\",\"value\":\"12pt\"},\"text_font_style\":{\"type\":\"value\",\"value\":\"bold\"},\"text_align\":{\"type\":\"value\",\"value\":\"center\"}}},{\"type\":\"object\",\"name\":\"LabelSet\",\"id\":\"p43859\",\"attributes\":{\"level\":\"glyph\",\"source\":{\"id\":\"p43846\"},\"x\":{\"type\":\"field\",\"field\":\"label_x_pos\"},\"y\":{\"type\":\"field\",\"field\":\"label_y_pos\"},\"text\":{\"type\":\"field\",\"field\":\"percentage_label\"},\"text_color\":{\"type\":\"value\",\"value\":\"#2C2B2B\"},\"text_font_size\":{\"type\":\"value\",\"value\":\"12pt\"},\"text_font_style\":{\"type\":\"value\",\"value\":\"bold\"},\"text_align\":{\"type\":\"value\",\"value\":\"center\"}}},{\"type\":\"object\",\"name\":\"Legend\",\"id\":\"p43866\",\"attributes\":{\"location\":\"center\",\"border_line_width\":0,\"background_fill_alpha\":0,\"inactive_fill_color\":\"#9fcf2e\",\"inactive_fill_alpha\":0.15,\"click_policy\":\"hide\",\"label_text_color\":\"white\",\"items\":[{\"type\":\"object\",\"name\":\"LegendItem\",\"id\":\"p43805\",\"attributes\":{\"label\":{\"type\":\"value\",\"value\":\"AGRICULTURE\"},\"renderers\":[{\"id\":\"p43796\"}]}},{\"type\":\"object\",\"name\":\"LegendItem\",\"id\":\"p43825\",\"attributes\":{\"label\":{\"type\":\"value\",\"value\":\"CHEAP TECH\"},\"renderers\":[{\"id\":\"p43816\"}]}},{\"type\":\"object\",\"name\":\"LegendItem\",\"id\":\"p43845\",\"attributes\":{\"label\":{\"type\":\"value\",\"value\":\"ENERGY\"},\"renderers\":[{\"id\":\"p43836\"}]}},{\"type\":\"object\",\"name\":\"LegendItem\",\"id\":\"p43865\",\"attributes\":{\"label\":{\"type\":\"value\",\"value\":\"MINING\"},\"renderers\":[{\"id\":\"p43856\"}]}}]}}],\"background_fill_color\":\"#2C2B2B\",\"border_fill_color\":\"#2C2B2B\",\"min_border\":0}}]}};\n  const render_items = [{\"docid\":\"8cd6973e-7b00-476d-a99c-04227123fb13\",\"roots\":{\"p43740\":\"66a189bc-2864-424e-ba86-d3f23408f3f4\"},\"root_ids\":[\"p43740\"]}];\n  root.Bokeh.embed.embed_items_notebook(docs_json, render_items);\n  }\n  if (root.Bokeh !== undefined) {\n    embed_document(root);\n  } else {\n    let attempts = 0;\n    const timer = setInterval(function(root) {\n      if (root.Bokeh !== undefined) {\n        clearInterval(timer);\n        embed_document(root);\n      } else {\n        attempts++;\n        if (attempts > 100) {\n          clearInterval(timer);\n          console.log(\"Bokeh: ERROR: Unable to run BokehJS code because BokehJS library is missing\");\n        }\n      }\n    }, 10, root)\n  }\n})(window);",
      "application/vnd.bokehjs_exec.v0+json": ""
     },
     "metadata": {
      "application/vnd.bokehjs_exec.v0+json": {
       "id": "p43740"
      }
     },
     "output_type": "display_data"
    }
   ],
   "source": [
    "from dashboard.logic.plots import components\n",
    "\n",
    "def donut_chart(\n",
    "    df: pd.DataFrame, \n",
    "    x: str, \n",
    "    y: str,\n",
    "    x_hover: str=None,\n",
    "    y_hover: str=None, \n",
    "    inner_radius: float=0.4,\n",
    "    outer_radius: float=0.8,\n",
    "    label_distance: float=3,\n",
    "    x_range: tuple[float, float]=(-1, 1.0),\n",
    "    percentage_decimal: int=1,\n",
    "    fig_height: int=350,\n",
    "    background_color: str='#212529',\n",
    "    pallette: dict=Category10,\n",
    "    sizing_mode='scale_width',\n",
    "    hover_tooltip: str='default',\n",
    "    legend_place: str='center',\n",
    "    fig_kwargs: dict={},\n",
    "    wedge_kwargs: dict=dict(line_width=3, alpha=0.7),\n",
    "    legend_kwargs: dict=dict(location='center', click_policy=\"hide\",\n",
    "                             label_text_color='white', border_line_width=0,\n",
    "                             inactive_fill_color='#9fcf2e', inactive_fill_alpha=0.15,\n",
    "                             background_fill_alpha=0),\n",
    "    label_kwargs: dict=dict(text_font_size='10pt', text_align='center')\n",
    "    ):\n",
    "    \n",
    "    \n",
    "    # sort df by \"y\"\n",
    "    df = df.sort_values(by=y, ignore_index=True)\n",
    "    \n",
    "    # calculate sector start and end angles\n",
    "    df['angle'] = df[y] / df[y].sum() * 2 * np.pi\n",
    "    df['cumsum_start'] = df['angle'].cumsum(axis='rows').shift(1).fillna(0)\n",
    "    df['cumsum_end'] = df['angle'].cumsum(axis='rows')\n",
    "    \n",
    "    # calculate y percentages for hover & labels\n",
    "    df['percentage_number'] = (df[y] / df[y].sum() * 100).round(percentage_decimal)\n",
    "    df['percentage_hover'] = df['percentage_number'].astype(str)\n",
    "    df['percentage_label'] = df['percentage_number'].apply(lambda x: \"\" if x < 5 else f\"{x:.{percentage_decimal}f}%\")\n",
    "    \n",
    "    # project label text coordinates to polar coordinates\n",
    "    df['label_x_pos'] = np.cos(df['angle'].cumsum() - df['angle'].div(2)) * label_distance * outer_radius/4\n",
    "    df['label_y_pos'] = np.sin(df['angle'].cumsum() - df['angle'].div(2)) * label_distance * outer_radius/4\n",
    "    \n",
    "    # remove assets that are 0\n",
    "    df = df[df[y] > 0]\n",
    "    \n",
    "    # reset dataframe index to start with 0\n",
    "    df = df.reset_index(drop=True)\n",
    "    \n",
    "    # init the figure/canvas for the plot\n",
    "    p = figure(height=fig_height, \n",
    "               toolbar_location=None, \n",
    "               x_range=x_range,\n",
    "               y_range=(-1.0, 1.0),\n",
    "               sizing_mode=sizing_mode,\n",
    "               **fig_kwargs)\n",
    "    \n",
    "    legend_items = []\n",
    "    for idx, color in enumerate(pallette[df.shape[0]]):\n",
    "        \n",
    "        source = ColumnDataSource(df.iloc[idx,:].to_frame().T)\n",
    "        \n",
    "        # create the glyphs renderers\n",
    "        wedge = p.annular_wedge(x=0, y=0, inner_radius=inner_radius, outer_radius=outer_radius, start_angle=\"cumsum_start\", \n",
    "                        end_angle=\"cumsum_end\", source=source, **wedge_kwargs,\n",
    "                        fill_color=color, hover_fill_color=color,\n",
    "                        line_color=background_color, hover_line_color=background_color,\n",
    "                        line_alpha=1, hover_alpha=1, hover_line_alpha=1)\n",
    "        \n",
    "        \n",
    "        label = LabelSet(x='label_x_pos', y='label_y_pos', text='percentage_label',\n",
    "                         source=source, level='glyph', text_color=background_color, **label_kwargs)\n",
    "        \n",
    "        x_hover = x if x_hover is None else x_hover\n",
    "        y_hover = y if y_hover is None else y_hover\n",
    "        \n",
    "        hover_tooltip = hover_tooltip if hover_tooltip != 'default' else \\\n",
    "            f\"\"\"\n",
    "                <div>\n",
    "                    <p style=\"margin:0;font-weight:bold;color:grey;\">@{x_hover}</p>\n",
    "                    <p style=\"padding:0;margin:0;font-weight:bold;\">$@{y_hover}{{0,0.00}} (@percentage_hover%)</p>\n",
    "                </div>\n",
    "                <style>\n",
    "                    .bk-tooltip {{\n",
    "                        background-color: red!important;\n",
    "                    }}\n",
    "                </style>\n",
    "            \"\"\"\n",
    "        \n",
    "        p.add_layout(label)\n",
    "        p.add_tools(HoverTool(renderers=[wedge],\n",
    "                              tooltips=hover_tooltip))\n",
    "\n",
    "        legend_items.append(LegendItem(label=df[x][idx], renderers=[wedge]))\n",
    "\n",
    "    # legend\n",
    "    legend = Legend(items=legend_items,  **legend_kwargs)\n",
    "    \n",
    "    p.add_layout(legend, place=legend_place)\n",
    "\n",
    "    \n",
    "    # figure attributes\n",
    "    p.toolbar.active_drag = None\n",
    "    p.axis.axis_label = None\n",
    "    p.axis.visible = False\n",
    "    p.grid.grid_line_color = None\n",
    "    \n",
    "    \n",
    "    p.min_border=0\n",
    "    p.outline_line_alpha=0\n",
    "    p.outline_line_width=0\n",
    "    p.outline_line_color = p.background_fill_color = p.border_fill_color = background_color\n",
    "\n",
    "    return show(p)\n",
    "\n",
    "h_tooltip = f\"\"\"\n",
    "                <div>\n",
    "                    <p style=\"margin:0;font-weight:bold;color:grey;\">@Sector</p>\n",
    "                    <p style=\"padding:0;margin:0;font-weight:bold;text-align:center;\">@percentage_hover{{0}}%</p>\n",
    "                </div>\n",
    "                <style>\n",
    "                    .bk-root .bk-tooltip {{\n",
    "                        background-color: red;\n",
    "                    }}\n",
    "                </style>\n",
    "            \"\"\"\n",
    "\n",
    "donut_chart(\n",
    "        df=df_sectors_plot.iloc[1:,],\n",
    "        x='Sector',\n",
    "        y='Proportion',\n",
    "        sizing_mode='fixed',\n",
    "        background_color='#2C2B2B',\n",
    "        percentage_decimal=0,\n",
    "        fig_height=500,\n",
    "        label_distance=3.1,\n",
    "        label_kwargs=dict(text_font_size='12pt', text_align='center', text_font_style='bold'),\n",
    "        legend_place='center',\n",
    "        fig_kwargs={'width':500}\n",
    "    )\n",
    "#obj_js, obj_div = components(obj)"
   ]
  }
 ],
 "metadata": {
  "kernelspec": {
   "display_name": "dashboard_invest-5AWLHTjn",
   "language": "python",
   "name": "python3"
  },
  "language_info": {
   "codemirror_mode": {
    "name": "ipython",
    "version": 3
   },
   "file_extension": ".py",
   "mimetype": "text/x-python",
   "name": "python",
   "nbconvert_exporter": "python",
   "pygments_lexer": "ipython3",
   "version": "3.11.2"
  },
  "orig_nbformat": 4,
  "vscode": {
   "interpreter": {
    "hash": "95bc9e6ef71e31cc08e5be64fcf800fc74ede588d28797baac94c8521371730c"
   }
  }
 },
 "nbformat": 4,
 "nbformat_minor": 2
}
