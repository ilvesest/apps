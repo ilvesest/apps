{
 "cells": [
  {
   "cell_type": "code",
   "execution_count": 1,
   "metadata": {},
   "outputs": [],
   "source": [
    "import re\n",
    "\n",
    "# 3rd part imports\n",
    "import numpy as np\n",
    "import pandas as pd\n",
    "pd.options.mode.chained_assignment = None\n",
    "\n",
    "from dashboard.logic.io import GSHEETS_URL, read_gsheet, comment_button, total_assets, \\\n",
    "    total_value_to_num, getDataFrames"
   ]
  },
  {
   "cell_type": "code",
   "execution_count": 7,
   "metadata": {},
   "outputs": [],
   "source": [
    "STOCKS_WATCH_URL = \"https://docs.google.com/spreadsheets/d/12-GISr1efphjtpuJLCfQzI2akNXxaJ1iabsG24ib71c/edit#gid=845083323\"\n",
    "\n",
    "# Read in summary DF and drop empty rows\n",
    "df = read_gsheet(\n",
    "    STOCKS_WATCH_URL, \n",
    "    header=None\n",
    ")"
   ]
  },
  {
   "cell_type": "code",
   "execution_count": 8,
   "metadata": {},
   "outputs": [],
   "source": [
    "# find df header row index using regex pattern\n",
    "header_idx = df.apply(lambda x: x.str.contains(\"Neil's Value\", case=False)).any(axis='columns').argmax()\n",
    "\n",
    "# separate disclaimer and df\n",
    "df_disclaimer = df.iloc[:header_idx-1, 0]\n",
    "df_watch = df.iloc[header_idx:,]\n",
    "\n",
    "# set first row as header & reset row idxs\n",
    "df_watch.columns = df_watch.iloc[0].values\n",
    "df_watch = df_watch.iloc[1:].reset_index(drop=True)\n",
    "\n",
    "# Generate buttons for 'Notes' column\n",
    "df_watch.Notes[df_watch.Notes.notna()] = df_watch.Notes[df_watch.Notes.notna()].apply(comment_button)\n",
    "df_watch = df_watch.fillna(\"\")\n",
    "\n",
    "# Color Ratings based on category\n",
    "rating_colormap = {'Sig Undervalued':'green', 'Mod Undervalued':'blue', 'Fair Value':'grey', 'Value Trap?':'red'}\n",
    "#df_watch[\"rating_color\"] = df_watch.Rating.map(rating_colormap)\n"
   ]
  },
  {
   "cell_type": "code",
   "execution_count": 30,
   "metadata": {},
   "outputs": [
    {
     "data": {
      "text/html": [
       "<div>\n",
       "<style scoped>\n",
       "    .dataframe tbody tr th:only-of-type {\n",
       "        vertical-align: middle;\n",
       "    }\n",
       "\n",
       "    .dataframe tbody tr th {\n",
       "        vertical-align: top;\n",
       "    }\n",
       "\n",
       "    .dataframe thead th {\n",
       "        text-align: right;\n",
       "    }\n",
       "</style>\n",
       "<table border=\"1\" class=\"dataframe\">\n",
       "  <thead>\n",
       "    <tr style=\"text-align: right;\">\n",
       "      <th></th>\n",
       "      <th>info</th>\n",
       "      <th>color</th>\n",
       "      <th>icon_id</th>\n",
       "    </tr>\n",
       "  </thead>\n",
       "  <tbody>\n",
       "    <tr>\n",
       "      <th>1</th>\n",
       "      <td>Please make your own copy of the stocks sectio...</td>\n",
       "      <td>success</td>\n",
       "      <td>check-lg</td>\n",
       "    </tr>\n",
       "    <tr>\n",
       "      <th>3</th>\n",
       "      <td>These stocks were found using the techniques t...</td>\n",
       "      <td>success</td>\n",
       "      <td>check-lg</td>\n",
       "    </tr>\n",
       "    <tr>\n",
       "      <th>4</th>\n",
       "      <td>Neil's Stocks Strategy: 80% into Index funds, ...</td>\n",
       "      <td>success</td>\n",
       "      <td>check-lg</td>\n",
       "    </tr>\n",
       "    <tr>\n",
       "      <th>0</th>\n",
       "      <td>These Valuations are for the purpose of Long T...</td>\n",
       "      <td>warning</td>\n",
       "      <td>exclamation-triangle-fill</td>\n",
       "    </tr>\n",
       "    <tr>\n",
       "      <th>2</th>\n",
       "      <td>NOTE! Many of the metrics below have to be man...</td>\n",
       "      <td>warning</td>\n",
       "      <td>exclamation-triangle-fill</td>\n",
       "    </tr>\n",
       "    <tr>\n",
       "      <th>5</th>\n",
       "      <td>AT THIS TIME, I AM OUT OF ALL STOCKS. PLEASE D...</td>\n",
       "      <td>danger</td>\n",
       "      <td>exclamation-octagon-fill</td>\n",
       "    </tr>\n",
       "  </tbody>\n",
       "</table>\n",
       "</div>"
      ],
      "text/plain": [
       "                                                info    color  \\\n",
       "1  Please make your own copy of the stocks sectio...  success   \n",
       "3  These stocks were found using the techniques t...  success   \n",
       "4  Neil's Stocks Strategy: 80% into Index funds, ...  success   \n",
       "0  These Valuations are for the purpose of Long T...  warning   \n",
       "2  NOTE! Many of the metrics below have to be man...  warning   \n",
       "5  AT THIS TIME, I AM OUT OF ALL STOCKS. PLEASE D...   danger   \n",
       "\n",
       "                     icon_id  \n",
       "1                   check-lg  \n",
       "3                   check-lg  \n",
       "4                   check-lg  \n",
       "0  exclamation-triangle-fill  \n",
       "2  exclamation-triangle-fill  \n",
       "5   exclamation-octagon-fill  "
      ]
     },
     "execution_count": 30,
     "metadata": {},
     "output_type": "execute_result"
    }
   ],
   "source": [
    "df1 = df_disclaimer.copy()\n",
    "\n",
    "# add period end of the sentence if not so\n",
    "df1 = df1.to_frame().rename(columns={0: 'info'})\n",
    "df1.loc[:,'info'] = [x + '.' if x[-1] != '.' else x for x in df1['info']]\n",
    "\n",
    "df_disc = df1.copy()\n",
    "\n",
    "df_disc['color'] = ['warning', 'success', 'warning', 'success', 'success', 'danger']\n",
    "df_disc['color'] = pd.Categorical(df_disc['color'],\n",
    "                                  categories=['success', 'warning', 'danger'],\n",
    "                                  ordered=True)\n",
    "icon_dict = {'warning': 'exclamation-triangle-fill', 'success': 'check-lg', 'danger':'exclamation-octagon-fill'}\n",
    "df_disc['icon_id'] = df_disc['color'].map(icon_dict)\n",
    "df_disc = df_disc.sort_values('color')\n",
    "\n"
   ]
  }
 ],
 "metadata": {
  "kernelspec": {
   "display_name": "dashboard_invest-5AWLHTjn",
   "language": "python",
   "name": "python3"
  },
  "language_info": {
   "codemirror_mode": {
    "name": "ipython",
    "version": 3
   },
   "file_extension": ".py",
   "mimetype": "text/x-python",
   "name": "python",
   "nbconvert_exporter": "python",
   "pygments_lexer": "ipython3",
   "version": "3.11.1"
  },
  "orig_nbformat": 4,
  "vscode": {
   "interpreter": {
    "hash": "95bc9e6ef71e31cc08e5be64fcf800fc74ede588d28797baac94c8521371730c"
   }
  }
 },
 "nbformat": 4,
 "nbformat_minor": 2
}
