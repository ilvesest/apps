{
 "cells": [
  {
   "cell_type": "code",
   "execution_count": 2,
   "metadata": {},
   "outputs": [],
   "source": [
    "from dashboard.logic.io import GSHEETS_URL, read_gsheet, comment_button\n",
    "import pandas as pd\n",
    "import numpy as np\n",
    "\n",
    "df = read_gsheet(\n",
    "    GSHEETS_URL, \n",
    "    header=None\n",
    ")"
   ]
  },
  {
   "cell_type": "code",
   "execution_count": 3,
   "metadata": {},
   "outputs": [
    {
     "data": {
      "text/plain": [
       "dict_keys(['main', 'ads', 'announcements', 'advice', 'error_warning', 'risk', 'historical', 'cash_pos', 'general_notes', 'success'])"
      ]
     },
     "execution_count": 3,
     "metadata": {},
     "output_type": "execute_result"
    }
   ],
   "source": [
    "def findRowColRegex(df: pd.DataFrame, pat: str, case: bool=True, regex:bool=True):\n",
    "    \n",
    "    # make sure only one such pat exists in the df\n",
    "    df_mask = df.apply(lambda x: x.str.contains(pat, case=case, regex=regex) if x.dtype == 'object' else None)\n",
    "    \n",
    "    count = df_mask.sum().sum()\n",
    "    \n",
    "    if count < 1: \n",
    "        raise ValueError(f'Given {pat} did not give any results.')\n",
    "    if count > 1:\n",
    "        raise ValueError(f'Given {pat} gave more than 1 results.')\n",
    "     \n",
    "    # col and row values where pat\n",
    "    row = df_mask.any(axis='columns').argmax()\n",
    "    col = df_mask.any(axis='index').argmax()\n",
    "    \n",
    "    return row, col\n",
    "\n",
    "def getDataFrames(df: pd.DataFrame):\n",
    "\n",
    "    df = df.reset_index(drop=True)\n",
    "    dataframes_dict = {}\n",
    "    \n",
    "    # MAIN DF\n",
    "    main_df_idx2 = (df == 'Monthly Income').any(axis='columns').argmax()\n",
    "    dataframes_dict['main'] = df.iloc[:main_df_idx2+1,:3].dropna(how='all', axis='rows')\n",
    "    \n",
    "    # ADS DF\n",
    "    r1, c1 = findRowColRegex(df, \"My Finance Course\")\n",
    "    \n",
    "    \n",
    "    ads_df = df.iloc[r1:,c1:].reset_index(drop=True)\n",
    "    ads_df = (ads_df\n",
    "        .loc[:(ads_df[c1].isna()).argmax()-1, :]\n",
    "        .dropna(how='all', axis='columns')\n",
    "    )\n",
    "    dataframes_dict['ads'] = ads_df\n",
    "    \n",
    "    # OTHER DFS\n",
    "    df_names = [\n",
    "    'announcements',\n",
    "    'advice',\n",
    "    'error_warning',\n",
    "    'risk',\n",
    "    'skip',\n",
    "    'skip',\n",
    "    'skip',\n",
    "    'historical',\n",
    "    'cash_pos',\n",
    "    'general_notes',\n",
    "    'success',\n",
    "    ]\n",
    "    \n",
    "    # Find rows after main df where all values are NaN-s.\n",
    "    nan_rows = df.iloc[main_df_idx2+1:,].isna().all(axis='columns')\n",
    "    \n",
    "    # Indices where all NaN-s in the row\n",
    "    dfs_idxs = []\n",
    "    \n",
    "    for i,bool in nan_rows.items():\n",
    "        \n",
    "        if i == nan_rows.index[-1]:\n",
    "            dfs_idxs.append(None)\n",
    "            break\n",
    "        if bool:\n",
    "            dfs_idxs.append(i)\n",
    "    \n",
    "    # raw dataframes\n",
    "    dfs = []        \n",
    "    for i,idx in enumerate(dfs_idxs):\n",
    "        if i == len(dfs_idxs) - 1:\n",
    "            break\n",
    "        dfs.append(df.iloc[idx:dfs_idxs[i+1]])\n",
    "    \n",
    "    # strip dataframes from NaN-s and add to dictionary\n",
    "    for df_, name in zip(dfs, df_names):\n",
    "        \n",
    "        if name == 'skip': continue\n",
    "        \n",
    "        dataframes_dict[name] = (df_\n",
    "            .dropna(how='all', axis='columns')\n",
    "            .dropna(how='all', axis='rows')\n",
    "        )\n",
    "    \n",
    "    return dataframes_dict\n",
    "\n",
    "df1 = df.copy()\n",
    "\n",
    "#findRowColRegex(df1, 'My Finance Course')\n",
    "\n",
    "df_dict = getDataFrames(df1)\n",
    "df_dict.keys()"
   ]
  },
  {
   "cell_type": "code",
   "execution_count": 10,
   "metadata": {},
   "outputs": [
    {
     "data": {
      "text/html": [
       "<div>\n",
       "<style scoped>\n",
       "    .dataframe tbody tr th:only-of-type {\n",
       "        vertical-align: middle;\n",
       "    }\n",
       "\n",
       "    .dataframe tbody tr th {\n",
       "        vertical-align: top;\n",
       "    }\n",
       "\n",
       "    .dataframe thead th {\n",
       "        text-align: right;\n",
       "    }\n",
       "</style>\n",
       "<table border=\"1\" class=\"dataframe\">\n",
       "  <thead>\n",
       "    <tr style=\"text-align: right;\">\n",
       "      <th></th>\n",
       "      <th>text</th>\n",
       "      <th>hyperlink</th>\n",
       "      <th>icon</th>\n",
       "      <th>header</th>\n",
       "    </tr>\n",
       "  </thead>\n",
       "  <tbody>\n",
       "    <tr>\n",
       "      <th>0</th>\n",
       "      <td>My Finance Course</td>\n",
       "      <td>https://bit.ly/3qzW4ZB</td>\n",
       "      <td>📈</td>\n",
       "      <td>Course</td>\n",
       "    </tr>\n",
       "    <tr>\n",
       "      <th>1</th>\n",
       "      <td>Private 1-on-1 Sessions With Me: (1 hour slots)</td>\n",
       "      <td>https://bit.ly/3bxv3xN</td>\n",
       "      <td>🧠</td>\n",
       "      <td>Mentoring</td>\n",
       "    </tr>\n",
       "    <tr>\n",
       "      <th>2</th>\n",
       "      <td>Where I Buy Allocated Silver/Gold Globally:</td>\n",
       "      <td>https://bit.ly/3kbgO61</td>\n",
       "      <td>🪙</td>\n",
       "      <td>PM Global</td>\n",
       "    </tr>\n",
       "    <tr>\n",
       "      <th>3</th>\n",
       "      <td>Where I Buy Physical Silver/Gold in the USA:</td>\n",
       "      <td>https://bit.ly/3drNR2F</td>\n",
       "      <td>🇺</td>\n",
       "      <td>PM USA</td>\n",
       "    </tr>\n",
       "    <tr>\n",
       "      <th>4</th>\n",
       "      <td>Where I Buy Physical Silver/Gold in the UK:</td>\n",
       "      <td>https://bit.ly/3SFvp9E</td>\n",
       "      <td>🇬</td>\n",
       "      <td>PM UK</td>\n",
       "    </tr>\n",
       "    <tr>\n",
       "      <th>5</th>\n",
       "      <td>How I Protect My Crypto from hackers:</td>\n",
       "      <td>https://bit.ly/3bK8oyL</td>\n",
       "      <td>🔑</td>\n",
       "      <td>Crypto Security</td>\n",
       "    </tr>\n",
       "    <tr>\n",
       "      <th>6</th>\n",
       "      <td>The Stock Platform I use for Europe (FREE Cred...</td>\n",
       "      <td>https://bit.ly/3KoufvK</td>\n",
       "      <td>📈</td>\n",
       "      <td>Stock Platform</td>\n",
       "    </tr>\n",
       "    <tr>\n",
       "      <th>7</th>\n",
       "      <td>A Global bank account (that I use) that offers...</td>\n",
       "      <td>https://bit.ly/3JpWOZK</td>\n",
       "      <td>🏦</td>\n",
       "      <td>Global Bank Account</td>\n",
       "    </tr>\n",
       "  </tbody>\n",
       "</table>\n",
       "</div>"
      ],
      "text/plain": [
       "                                                text               hyperlink  \\\n",
       "0                                  My Finance Course  https://bit.ly/3qzW4ZB   \n",
       "1    Private 1-on-1 Sessions With Me: (1 hour slots)  https://bit.ly/3bxv3xN   \n",
       "2       Where I Buy Allocated Silver/Gold Globally:   https://bit.ly/3kbgO61   \n",
       "3       Where I Buy Physical Silver/Gold in the USA:  https://bit.ly/3drNR2F   \n",
       "4        Where I Buy Physical Silver/Gold in the UK:  https://bit.ly/3SFvp9E   \n",
       "5             How I Protect My Crypto from hackers:   https://bit.ly/3bK8oyL   \n",
       "6  The Stock Platform I use for Europe (FREE Cred...  https://bit.ly/3KoufvK   \n",
       "7  A Global bank account (that I use) that offers...  https://bit.ly/3JpWOZK   \n",
       "\n",
       "  icon               header  \n",
       "0    📈               Course  \n",
       "1    🧠            Mentoring  \n",
       "2    🪙            PM Global  \n",
       "3    🇺               PM USA  \n",
       "4    🇬                PM UK  \n",
       "5    🔑      Crypto Security  \n",
       "6    📈       Stock Platform  \n",
       "7    🏦  Global Bank Account  "
      ]
     },
     "execution_count": 10,
     "metadata": {},
     "output_type": "execute_result"
    }
   ],
   "source": [
    "df_ads = df_dict['ads'].copy()\n",
    "df_ads.columns = ['text', 'hyperlink']\n",
    "df_ads['icon'] = df_ads.text.str[:1]\n",
    "df_ads['text'] = df_ads.text.str[2:]\n",
    "\n",
    "headers = ['Course', 'Mentoring', 'PM Global', 'PM USA', 'PM UK', 'Crypto Security', 'Stock Platform', 'Global Bank Account']\n",
    "\n",
    "df_ads['header'] = headers\n",
    "df_ads"
   ]
  },
  {
   "cell_type": "code",
   "execution_count": 17,
   "metadata": {},
   "outputs": [
    {
     "name": "stdout",
     "output_type": "stream",
     "text": [
      "<class 'str'>\n"
     ]
    }
   ],
   "source": [
    "for k,v in df_ads.items():\n",
    "    print(type(k))\n",
    "    break"
   ]
  },
  {
   "cell_type": "code",
   "execution_count": 17,
   "metadata": {},
   "outputs": [
    {
     "data": {
      "text/html": [
       "<div>\n",
       "<style scoped>\n",
       "    .dataframe tbody tr th:only-of-type {\n",
       "        vertical-align: middle;\n",
       "    }\n",
       "\n",
       "    .dataframe tbody tr th {\n",
       "        vertical-align: top;\n",
       "    }\n",
       "\n",
       "    .dataframe thead th {\n",
       "        text-align: right;\n",
       "    }\n",
       "</style>\n",
       "<table border=\"1\" class=\"dataframe\">\n",
       "  <thead>\n",
       "    <tr style=\"text-align: right;\">\n",
       "      <th></th>\n",
       "      <th>text</th>\n",
       "      <th>hyperlink</th>\n",
       "    </tr>\n",
       "  </thead>\n",
       "  <tbody>\n",
       "    <tr>\n",
       "      <th>4</th>\n",
       "      <td>🇬🇧 Where I Buy Physical Silver/Gold in the UK:</td>\n",
       "      <td>https://bit.ly/3SFvp9E</td>\n",
       "    </tr>\n",
       "    <tr>\n",
       "      <th>5</th>\n",
       "      <td>🔑 How I Protect My Crypto from hackers:</td>\n",
       "      <td>https://bit.ly/3bK8oyL</td>\n",
       "    </tr>\n",
       "    <tr>\n",
       "      <th>6</th>\n",
       "      <td>📈 The Stock Platform I use for Europe (FREE Cr...</td>\n",
       "      <td>https://bit.ly/3KoufvK</td>\n",
       "    </tr>\n",
       "    <tr>\n",
       "      <th>7</th>\n",
       "      <td>🏦 A Global bank account (that I use) that offe...</td>\n",
       "      <td>https://bit.ly/3JpWOZK</td>\n",
       "    </tr>\n",
       "  </tbody>\n",
       "</table>\n",
       "</div>"
      ],
      "text/plain": [
       "                                                text               hyperlink\n",
       "4     🇬🇧 Where I Buy Physical Silver/Gold in the UK:  https://bit.ly/3SFvp9E\n",
       "5           🔑 How I Protect My Crypto from hackers:   https://bit.ly/3bK8oyL\n",
       "6  📈 The Stock Platform I use for Europe (FREE Cr...  https://bit.ly/3KoufvK\n",
       "7  🏦 A Global bank account (that I use) that offe...  https://bit.ly/3JpWOZK"
      ]
     },
     "execution_count": 17,
     "metadata": {},
     "output_type": "execute_result"
    }
   ],
   "source": [
    "idx_break = int(df_ads.shape[0] // 2)\n",
    "indices = [(None, idx_break), (idx_break,  None)]\n",
    "#for half in range():\n",
    "df_ads[4:None]"
   ]
  },
  {
   "cell_type": "code",
   "execution_count": 20,
   "metadata": {},
   "outputs": [
    {
     "data": {
      "text/plain": [
       "[]"
      ]
     },
     "execution_count": 20,
     "metadata": {},
     "output_type": "execute_result"
    }
   ],
   "source": [
    "[i for i in range(2, 0)]"
   ]
  }
 ],
 "metadata": {
  "kernelspec": {
   "display_name": "dashboard_invest-5AWLHTjn",
   "language": "python",
   "name": "python3"
  },
  "language_info": {
   "codemirror_mode": {
    "name": "ipython",
    "version": 3
   },
   "file_extension": ".py",
   "mimetype": "text/x-python",
   "name": "python",
   "nbconvert_exporter": "python",
   "pygments_lexer": "ipython3",
   "version": "3.11.1"
  },
  "orig_nbformat": 4,
  "vscode": {
   "interpreter": {
    "hash": "95bc9e6ef71e31cc08e5be64fcf800fc74ede588d28797baac94c8521371730c"
   }
  }
 },
 "nbformat": 4,
 "nbformat_minor": 2
}
