{
 "cells": [
  {
   "cell_type": "code",
   "execution_count": 6,
   "metadata": {},
   "outputs": [],
   "source": [
    "import re\n",
    "\n",
    "# 3rd part imports\n",
    "import numpy as np\n",
    "import pandas as pd\n",
    "pd.options.mode.chained_assignment = None\n",
    "\n",
    "from dashboard.logic.io import GSHEETS_URL, read_gsheet, comment_button, total_assets, \\\n",
    "    total_value_to_num, getDataFrames"
   ]
  },
  {
   "cell_type": "code",
   "execution_count": 8,
   "metadata": {},
   "outputs": [],
   "source": [
    "# Read in summary DF and drop empty rows\n",
    "df = read_gsheet(\n",
    "    GSHEETS_URL, \n",
    "    header=None\n",
    ")\n",
    "\n",
    "# Extract sub DF to dictionary\n",
    "df_dict = getDataFrames(df)"
   ]
  },
  {
   "cell_type": "code",
   "execution_count": 20,
   "metadata": {},
   "outputs": [
    {
     "data": {
      "text/html": [
       "<div>\n",
       "<style scoped>\n",
       "    .dataframe tbody tr th:only-of-type {\n",
       "        vertical-align: middle;\n",
       "    }\n",
       "\n",
       "    .dataframe tbody tr th {\n",
       "        vertical-align: top;\n",
       "    }\n",
       "\n",
       "    .dataframe thead th {\n",
       "        text-align: right;\n",
       "    }\n",
       "</style>\n",
       "<table border=\"1\" class=\"dataframe\">\n",
       "  <thead>\n",
       "    <tr style=\"text-align: right;\">\n",
       "      <th></th>\n",
       "      <th>date</th>\n",
       "      <th>text</th>\n",
       "      <th>heading</th>\n",
       "    </tr>\n",
       "  </thead>\n",
       "  <tbody>\n",
       "    <tr>\n",
       "      <th>0</th>\n",
       "      <td>Jan 2023</td>\n",
       "      <td>Property Purchase 23rd Jan 2023. Cash reserve ...</td>\n",
       "      <td>Property Purchase</td>\n",
       "    </tr>\n",
       "    <tr>\n",
       "      <th>1</th>\n",
       "      <td>Jan 2023</td>\n",
       "      <td>As central banks tighten (QT + Interest rate ...</td>\n",
       "      <td>Rising Rates</td>\n",
       "    </tr>\n",
       "    <tr>\n",
       "      <th>2</th>\n",
       "      <td>Jan 2023</td>\n",
       "      <td>I wouldn't be surprised if we see a small ral...</td>\n",
       "      <td>Stocks Ralley and Crash</td>\n",
       "    </tr>\n",
       "    <tr>\n",
       "      <th>3</th>\n",
       "      <td>Dec 2022</td>\n",
       "      <td>No change to last month. 2022 financial forec...</td>\n",
       "      <td>No Change</td>\n",
       "    </tr>\n",
       "    <tr>\n",
       "      <th>4</th>\n",
       "      <td>Nov 2022</td>\n",
       "      <td>Asset prices are now beginning to fall in cor...</td>\n",
       "      <td>Assets Falling</td>\n",
       "    </tr>\n",
       "    <tr>\n",
       "      <th>5</th>\n",
       "      <td>Oct 2022</td>\n",
       "      <td>Cash is king right now. Assets are finally st...</td>\n",
       "      <td>Cash is King</td>\n",
       "    </tr>\n",
       "    <tr>\n",
       "      <th>6</th>\n",
       "      <td>Sep 2022</td>\n",
       "      <td>Cash currently held between multiple bank acc...</td>\n",
       "      <td>Stockbiling Cash</td>\n",
       "    </tr>\n",
       "    <tr>\n",
       "      <th>7</th>\n",
       "      <td>Aug 2022</td>\n",
       "      <td>As per last month, I am still accumulating ca...</td>\n",
       "      <td>Accumulating Cash</td>\n",
       "    </tr>\n",
       "    <tr>\n",
       "      <th>8</th>\n",
       "      <td>Jul 2022</td>\n",
       "      <td>I'm following my February plan of going to CA...</td>\n",
       "      <td>Into Cash!</td>\n",
       "    </tr>\n",
       "  </tbody>\n",
       "</table>\n",
       "</div>"
      ],
      "text/plain": [
       "       date                                               text  \\\n",
       "0  Jan 2023  Property Purchase 23rd Jan 2023. Cash reserve ...   \n",
       "1  Jan 2023   As central banks tighten (QT + Interest rate ...   \n",
       "2  Jan 2023   I wouldn't be surprised if we see a small ral...   \n",
       "3  Dec 2022   No change to last month. 2022 financial forec...   \n",
       "4  Nov 2022   Asset prices are now beginning to fall in cor...   \n",
       "5  Oct 2022   Cash is king right now. Assets are finally st...   \n",
       "6  Sep 2022   Cash currently held between multiple bank acc...   \n",
       "7  Aug 2022   As per last month, I am still accumulating ca...   \n",
       "8  Jul 2022   I'm following my February plan of going to CA...   \n",
       "\n",
       "                   heading  \n",
       "0        Property Purchase  \n",
       "1             Rising Rates  \n",
       "2  Stocks Ralley and Crash  \n",
       "3                No Change  \n",
       "4           Assets Falling  \n",
       "5             Cash is King  \n",
       "6         Stockbiling Cash  \n",
       "7        Accumulating Cash  \n",
       "8               Into Cash!  "
      ]
     },
     "execution_count": 20,
     "metadata": {},
     "output_type": "execute_result"
    }
   ],
   "source": [
    "df_a = df_dict['announcements'].copy()\n",
    "df_a = df_a.reset_index(drop=True)\n",
    "df_a = df_a[0].str.split(pat=':', n=1, expand=True)\n",
    "df_a.columns = ['date', 'text']\n",
    "no_date_idx = df_a['date'].str.contains(r\"property purchase 23rd\", case=False).argmax()\n",
    "df_a.loc[no_date_idx, 'text'] = df_a.loc[no_date_idx, 'date']\n",
    "df_a.loc[no_date_idx, 'date'] = 'Jan 2023'\n",
    "df_a['heading'] = ['Property Purchase', 'Rising Rates', 'Stocks Ralley and Crash', \n",
    "                   'No Change', 'Assets Falling', 'Cash is King', 'Stockbiling Cash', \n",
    "                   'Accumulating Cash', 'Into Cash!']\n",
    "df_a"
   ]
  }
 ],
 "metadata": {
  "kernelspec": {
   "display_name": "dashboard_invest-5AWLHTjn",
   "language": "python",
   "name": "python3"
  },
  "language_info": {
   "codemirror_mode": {
    "name": "ipython",
    "version": 3
   },
   "file_extension": ".py",
   "mimetype": "text/x-python",
   "name": "python",
   "nbconvert_exporter": "python",
   "pygments_lexer": "ipython3",
   "version": "3.11.1"
  },
  "orig_nbformat": 4,
  "vscode": {
   "interpreter": {
    "hash": "95bc9e6ef71e31cc08e5be64fcf800fc74ede588d28797baac94c8521371730c"
   }
  }
 },
 "nbformat": 4,
 "nbformat_minor": 2
}
