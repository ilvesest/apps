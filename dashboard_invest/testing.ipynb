{
 "cells": [
  {
   "cell_type": "code",
   "execution_count": 112,
   "metadata": {},
   "outputs": [],
   "source": [
    "import re\n",
    "\n",
    "# 3rd part imports\n",
    "import numpy as np\n",
    "import pandas as pd\n",
    "pd.options.mode.chained_assignment = None\n",
    "\n",
    "import requests\n",
    "from bs4 import BeautifulSoup as BS\n",
    "\n"
   ]
  },
  {
   "cell_type": "code",
   "execution_count": 114,
   "metadata": {},
   "outputs": [],
   "source": [
    "\n",
    "STOCKS_URL = \"https://docs.google.com/spreadsheets/d/12-GISr1efphjtpuJLCfQzI2akNXxaJ1iabsG24ib71c/gviz/tq?tqx=out:html&tq&gid=845083323\"\n",
    "\n",
    "soup = BS(requests.get(url=STOCKS_URL).text, features=\"html.parser\").prettify()\n",
    "\n",
    "with open('test', \"w\") as text_file:\n",
    "    text_file.write(soup)\n",
    "\n"
   ]
  }
 ],
 "metadata": {
  "kernelspec": {
   "display_name": "dashboard_invest-5AWLHTjn",
   "language": "python",
   "name": "python3"
  },
  "language_info": {
   "codemirror_mode": {
    "name": "ipython",
    "version": 3
   },
   "file_extension": ".py",
   "mimetype": "text/x-python",
   "name": "python",
   "nbconvert_exporter": "python",
   "pygments_lexer": "ipython3",
   "version": "3.11.1"
  },
  "orig_nbformat": 4,
  "vscode": {
   "interpreter": {
    "hash": "95bc9e6ef71e31cc08e5be64fcf800fc74ede588d28797baac94c8521371730c"
   }
  }
 },
 "nbformat": 4,
 "nbformat_minor": 2
}
