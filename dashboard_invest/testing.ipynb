{
 "cells": [
  {
   "cell_type": "code",
   "execution_count": 1,
   "metadata": {},
   "outputs": [],
   "source": [
    "import re\n",
    "\n",
    "# 3rd part imports\n",
    "import numpy as np\n",
    "import pandas as pd\n",
    "pd.options.mode.chained_assignment = None\n",
    "\n",
    "from dashboard.logic.io import GSHEETS_URL, read_gsheet, comment_button, total_assets, \\\n",
    "    total_value_to_num, getDataFrames"
   ]
  },
  {
   "cell_type": "code",
   "execution_count": 7,
   "metadata": {},
   "outputs": [],
   "source": [
    "STOCKS_WATCH_URL = \"https://docs.google.com/spreadsheets/d/12-GISr1efphjtpuJLCfQzI2akNXxaJ1iabsG24ib71c/edit#gid=845083323\"\n",
    "\n",
    "# Read in summary DF and drop empty rows\n",
    "df = read_gsheet(\n",
    "    STOCKS_WATCH_URL, \n",
    "    header=None\n",
    ")"
   ]
  },
  {
   "cell_type": "code",
   "execution_count": 8,
   "metadata": {},
   "outputs": [],
   "source": [
    "# find df header row index using regex pattern\n",
    "header_idx = df.apply(lambda x: x.str.contains(\"Neil's Value\", case=False)).any(axis='columns').argmax()\n",
    "\n",
    "# separate disclaimer and df\n",
    "df_disclaimer = df.iloc[:header_idx-1, 0]\n",
    "df_watch = df.iloc[header_idx:,]\n",
    "\n",
    "# set first row as header & reset row idxs\n",
    "df_watch.columns = df_watch.iloc[0].values\n",
    "df_watch = df_watch.iloc[1:].reset_index(drop=True)\n",
    "\n",
    "# Generate buttons for 'Notes' column\n",
    "df_watch.Notes[df_watch.Notes.notna()] = df_watch.Notes[df_watch.Notes.notna()].apply(comment_button)\n",
    "df_watch = df_watch.fillna(\"\")\n",
    "\n",
    "# Color Ratings based on category\n",
    "rating_colormap = {'Sig Undervalued':'green', 'Mod Undervalued':'blue', 'Fair Value':'grey', 'Value Trap?':'red'}\n",
    "#df_watch[\"rating_color\"] = df_watch.Rating.map(rating_colormap)\n"
   ]
  },
  {
   "cell_type": "code",
   "execution_count": 26,
   "metadata": {},
   "outputs": [
    {
     "name": "stdout",
     "output_type": "stream",
     "text": [
      "These Valuations are for the purpose of Long Term Value Investing, this information will not be useful for Traders.\n",
      "Please make your own copy of the stocks section contained within this spreadsheet for use with my stocks course.\n",
      "NOTE! Many of the metrics below have to be manually updated at the start of each month, meaning they will be out of date the later we get in the month.\n",
      "These stocks were found using the techniques taught in my stock market course (Screener chapter).\n",
      "Neil's Stocks Strategy: 80% into Index funds, 20% into carefully selected 'undervalued' stock picks. Index funds could mean S&P, FTSE, etc. This will depend on the economy of each Country at the time.\n",
      "AT THIS TIME, I AM OUT OF ALL STOCKS. PLEASE DO NOT COPY MY INVESTMENT MOVES, MAKE YOUR OWN DECISIONS.\n"
     ]
    }
   ],
   "source": [
    "df1 = df_disclaimer.copy()\n",
    "\n",
    "# add period end of the sentence if not so\n",
    "df1 = df1.to_frame().rename(columns={0: 'info'})\n",
    "df1.loc[:,'info'] = [x + '.' if x[-1] != '.' else x for x in df1['info']]\n",
    "\n",
    "# add info color column\n",
    "df1['font_color'] = ['', '', '', '', 'success', 'danger']\n",
    "\n",
    "for i,row in df1.iterrows():\n",
    "    print(row['info'])"
   ]
  }
 ],
 "metadata": {
  "kernelspec": {
   "display_name": "dashboard_invest-5AWLHTjn",
   "language": "python",
   "name": "python3"
  },
  "language_info": {
   "codemirror_mode": {
    "name": "ipython",
    "version": 3
   },
   "file_extension": ".py",
   "mimetype": "text/x-python",
   "name": "python",
   "nbconvert_exporter": "python",
   "pygments_lexer": "ipython3",
   "version": "3.11.1"
  },
  "orig_nbformat": 4,
  "vscode": {
   "interpreter": {
    "hash": "95bc9e6ef71e31cc08e5be64fcf800fc74ede588d28797baac94c8521371730c"
   }
  }
 },
 "nbformat": 4,
 "nbformat_minor": 2
}
